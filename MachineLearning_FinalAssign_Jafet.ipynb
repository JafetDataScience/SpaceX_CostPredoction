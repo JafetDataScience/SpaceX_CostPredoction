{
  "metadata": {
    "kernelspec": {
      "name": "python",
      "display_name": "Python (Pyodide)",
      "language": "python"
    },
    "language_info": {
      "codemirror_mode": {
        "name": "python",
        "version": 3
      },
      "file_extension": ".py",
      "mimetype": "text/x-python",
      "name": "python",
      "nbconvert_exporter": "python",
      "pygments_lexer": "ipython3",
      "version": "3.8"
    },
    "colab": {
      "provenance": []
    }
  },
  "nbformat_minor": 0,
  "nbformat": 4,
  "cells": [
    {
      "cell_type": "markdown",
      "source": [
        "<p style=\"text-align:center\">\n",
        "    <a href=\"https://skills.network/?utm_medium=Exinfluencer&utm_source=Exinfluencer&utm_content=000026UJ&utm_term=10006555&utm_id=NA-SkillsNetwork-Channel-SkillsNetworkCoursesIBMDeveloperSkillsNetworkML0101ENSkillsNetwork20718538-2022-01-01\" target=\"_blank\">\n",
        "    <img src=\"https://cf-courses-data.s3.us.cloud-object-storage.appdomain.cloud/assets/logos/SN_web_lightmode.png\" width=\"200\" alt=\"Skills Network Logo\">\n",
        "    </a>\n",
        "</p>\n",
        "\n",
        "<h1 align=\"center\"><font size=\"5\">Final Project: Classification with Python</font></h1>\n"
      ],
      "metadata": {
        "id": "_dwntvgO_KaR"
      }
    },
    {
      "cell_type": "markdown",
      "source": [
        "<h2>Table of Contents</h2>\n",
        "<div class=\"alert alert-block alert-info\" style=\"margin-top: 20px\">\n",
        "    <ul>\n",
        "    <li><a href=\"https://#Section_1\">Instructions</a></li>\n",
        "    <li><a href=\"https://#Section_2\">About the Data</a></li>\n",
        "    <li><a href=\"https://#Section_3\">Importing Data </a></li>\n",
        "    <li><a href=\"https://#Section_4\">Data Preprocessing</a> </li>\n",
        "    <li><a href=\"https://#Section_5\">One Hot Encoding </a></li>\n",
        "    <li><a href=\"https://#Section_6\">Train and Test Data Split </a></li>\n",
        "    <li><a href=\"https://#Section_7\">Train Logistic Regression, KNN, Decision Tree, SVM, and Linear Regression models and return their appropriate accuracy scores</a></li>\n",
        "</a></li>\n",
        "</div>\n",
        "<p>Estimated Time Needed: <strong>180 min</strong></p>\n",
        "</div>\n",
        "\n",
        "<hr>\n"
      ],
      "metadata": {
        "id": "X4SnQU1w_Kar"
      }
    },
    {
      "cell_type": "markdown",
      "source": [
        "# Instructions\n"
      ],
      "metadata": {
        "id": "TTNnLfDO_Kaw"
      }
    },
    {
      "cell_type": "markdown",
      "source": [
        "In this notebook, you will  practice all the classification algorithms that we have learned in this course.\n",
        "\n",
        "\n",
        "Below, is where we are going to use the classification algorithms to create a model based on our training data and evaluate our testing data using evaluation metrics learned in the course.\n",
        "\n",
        "We will use some of the algorithms taught in the course, specifically:\n",
        "\n",
        "1. Linear Regression\n",
        "2. KNN\n",
        "3. Decision Trees\n",
        "4. Logistic Regression\n",
        "5. SVM\n",
        "\n",
        "We will evaluate our models using:\n",
        "\n",
        "1.  Accuracy Score\n",
        "2.  Jaccard Index\n",
        "3.  F1-Score\n",
        "4.  LogLoss\n",
        "5.  Mean Absolute Error\n",
        "6.  Mean Squared Error\n",
        "7.  R2-Score\n",
        "\n",
        "Finally, you will use your models to generate the report at the end.\n"
      ],
      "metadata": {
        "id": "heBmqyl0_Ka0"
      }
    },
    {
      "cell_type": "markdown",
      "source": [
        "# About The Dataset\n"
      ],
      "metadata": {
        "id": "AwU5q_sv_Ka1"
      }
    },
    {
      "cell_type": "markdown",
      "source": [
        "The original source of the data is Australian Government's Bureau of Meteorology and the latest data can be gathered from [http://www.bom.gov.au/climate/dwo/](http://www.bom.gov.au/climate/dwo/?utm_medium=Exinfluencer&utm_source=Exinfluencer&utm_content=000026UJ&utm_term=10006555&utm_id=NA-SkillsNetwork-Channel-SkillsNetworkCoursesIBMDeveloperSkillsNetworkML0101ENSkillsNetwork20718538-2022-01-01).\n",
        "\n",
        "The dataset to be used has extra columns like 'RainToday' and our target is 'RainTomorrow', which was gathered from the Rattle at [https://bitbucket.org/kayontoga/rattle/src/master/data/weatherAUS.RData](https://bitbucket.org/kayontoga/rattle/src/master/data/weatherAUS.RData?utm_medium=Exinfluencer&utm_source=Exinfluencer&utm_content=000026UJ&utm_term=10006555&utm_id=NA-SkillsNetwork-Channel-SkillsNetworkCoursesIBMDeveloperSkillsNetworkML0101ENSkillsNetwork20718538-2022-01-01)\n",
        "\n",
        "\n"
      ],
      "metadata": {
        "id": "XQg3vZ0M_Ka4"
      }
    },
    {
      "cell_type": "markdown",
      "source": [
        "This dataset contains observations of weather metrics for each day from 2008 to 2017. The **weatherAUS.csv** dataset includes the following fields:\n",
        "\n",
        "| Field         | Description                                           | Unit            | Type   |\n",
        "| ------------- | ----------------------------------------------------- | --------------- | ------ |\n",
        "| Date          | Date of the Observation in YYYY-MM-DD                 | Date            | object |\n",
        "| Location      | Location of the Observation                           | Location        | object |\n",
        "| MinTemp       | Minimum temperature                                   | Celsius         | float  |\n",
        "| MaxTemp       | Maximum temperature                                   | Celsius         | float  |\n",
        "| Rainfall      | Amount of rainfall                                    | Millimeters     | float  |\n",
        "| Evaporation   | Amount of evaporation                                 | Millimeters     | float  |\n",
        "| Sunshine      | Amount of bright sunshine                             | hours           | float  |\n",
        "| WindGustDir   | Direction of the strongest gust                       | Compass Points  | object |\n",
        "| WindGustSpeed | Speed of the strongest gust                           | Kilometers/Hour | object |\n",
        "| WindDir9am    | Wind direction averaged of 10 minutes prior to 9am    | Compass Points  | object |\n",
        "| WindDir3pm    | Wind direction averaged of 10 minutes prior to 3pm    | Compass Points  | object |\n",
        "| WindSpeed9am  | Wind speed averaged of 10 minutes prior to 9am        | Kilometers/Hour | float  |\n",
        "| WindSpeed3pm  | Wind speed averaged of 10 minutes prior to 3pm        | Kilometers/Hour | float  |\n",
        "| Humidity9am   | Humidity at 9am                                       | Percent         | float  |\n",
        "| Humidity3pm   | Humidity at 3pm                                       | Percent         | float  |\n",
        "| Pressure9am   | Atmospheric pressure reduced to mean sea level at 9am | Hectopascal     | float  |\n",
        "| Pressure3pm   | Atmospheric pressure reduced to mean sea level at 3pm | Hectopascal     | float  |\n",
        "| Cloud9am      | Fraction of the sky obscured by cloud at 9am          | Eights          | float  |\n",
        "| Cloud3pm      | Fraction of the sky obscured by cloud at 3pm          | Eights          | float  |\n",
        "| Temp9am       | Temperature at 9am                                    | Celsius         | float  |\n",
        "| Temp3pm       | Temperature at 3pm                                    | Celsius         | float  |\n",
        "| RainToday     | If there was rain today                               | Yes/No          | object |\n",
        "| RainTomorrow  | If there is rain tomorrow                             | Yes/No          | float  |\n",
        "\n",
        "Column definitions were gathered from [http://www.bom.gov.au/climate/dwo/IDCJDW0000.shtml](http://www.bom.gov.au/climate/dwo/IDCJDW0000.shtml?utm_medium=Exinfluencer&utm_source=Exinfluencer&utm_content=000026UJ&utm_term=10006555&utm_id=NA-SkillsNetwork-Channel-SkillsNetworkCoursesIBMDeveloperSkillsNetworkML0101ENSkillsNetwork20718538-2022-01-01)\n",
        "\n"
      ],
      "metadata": {
        "id": "XW-4kjiX_Ka_"
      }
    },
    {
      "cell_type": "markdown",
      "source": [
        "## **Import the required libraries**\n"
      ],
      "metadata": {
        "id": "gJJcpE51_KbB"
      }
    },
    {
      "cell_type": "code",
      "source": [
        "# All Libraries required for this lab are listed below. The libraries pre-installed on Skills Network Labs are commented.\n",
        "# !mamba install -qy pandas==1.3.4 numpy==1.21.4 seaborn==0.9.0 matplotlib==3.5.0 scikit-learn==0.20.1\n",
        "# Note: If your environment doesn't support \"!mamba install\", use \"!pip install\""
      ],
      "metadata": {
        "id": "fY2cZoqJ_KbJ"
      },
      "outputs": [],
      "execution_count": 389
    },
    {
      "cell_type": "code",
      "source": [
        "# Surpress warnings:\n",
        "def warn(*args, **kwargs):\n",
        "    pass\n",
        "import warnings\n",
        "warnings.warn = warn"
      ],
      "metadata": {
        "id": "3hbtn-iA_KbM"
      },
      "outputs": [],
      "execution_count": 390
    },
    {
      "cell_type": "code",
      "source": [
        "#you are running the lab in your  browser, so we will install the libraries using ``piplite``\n",
        "#import piplite\n",
        "#await piplite.install(['pandas'])\n",
        "#await piplite.install(['numpy'])\n"
      ],
      "metadata": {
        "id": "QpqzJRpj_KbN"
      },
      "outputs": [],
      "execution_count": 391
    },
    {
      "cell_type": "code",
      "source": [
        "import pandas as pd\n",
        "from sklearn.linear_model import LogisticRegression\n",
        "from sklearn.linear_model import LinearRegression\n",
        "from sklearn import preprocessing\n",
        "import numpy as np\n",
        "from sklearn.neighbors import KNeighborsClassifier\n",
        "from sklearn.model_selection import train_test_split\n",
        "from sklearn.tree import DecisionTreeClassifier\n",
        "from sklearn import svm\n",
        "from sklearn.metrics import jaccard_score\n",
        "from sklearn.metrics import f1_score\n",
        "from sklearn.metrics import log_loss\n",
        "from sklearn.metrics import confusion_matrix, accuracy_score\n",
        "import sklearn.metrics as metrics"
      ],
      "metadata": {
        "id": "1nwJQQL1_KbP"
      },
      "outputs": [],
      "execution_count": 392
    },
    {
      "cell_type": "markdown",
      "source": [
        "### Importing the Dataset\n"
      ],
      "metadata": {
        "id": "YFys-Kcg_KbQ"
      }
    },
    {
      "cell_type": "code",
      "source": [
        "#from pyodide.http import pyfetch\n",
        "\n",
        "#async def download(url, filename):\n",
        "#    response = await pyfetch(url)\n",
        "#    if response.status == 200:\n",
        "#        with open(filename, \"wb\") as f:\n",
        "#            f.write(await response.bytes())"
      ],
      "metadata": {
        "id": "RVNULSOq_KbQ"
      },
      "outputs": [],
      "execution_count": 393
    },
    {
      "cell_type": "code",
      "source": [
        "path='https://cf-courses-data.s3.us.cloud-object-storage.appdomain.cloud/IBMDeveloperSkillsNetwork-ML0101EN-SkillUp/labs/ML-FinalAssignment/Weather_Data.csv'"
      ],
      "metadata": {
        "id": "EkrsYDxF_KbR"
      },
      "outputs": [],
      "execution_count": 394
    },
    {
      "cell_type": "code",
      "source": [
        "#await download(path, \"Weather_Data.csv\")\n",
        "#filename =\"Weather_Data.csv\""
      ],
      "metadata": {
        "id": "T8Jp0DyG_KbS"
      },
      "outputs": [],
      "execution_count": 395
    },
    {
      "cell_type": "code",
      "source": [
        "df = pd.read_csv(path)\n",
        "df.head()"
      ],
      "metadata": {
        "colab": {
          "base_uri": "https://localhost:8080/",
          "height": 0
        },
        "id": "yxp3q_K1_KbY",
        "outputId": "9506b87a-1c28-4b35-eea0-78ba9e91b53d"
      },
      "outputs": [
        {
          "output_type": "execute_result",
          "data": {
            "text/plain": [
              "       Date  MinTemp  MaxTemp  Rainfall  Evaporation  Sunshine WindGustDir  \\\n",
              "0  2/1/2008     19.5     22.4      15.6          6.2       0.0           W   \n",
              "1  2/2/2008     19.5     25.6       6.0          3.4       2.7           W   \n",
              "2  2/3/2008     21.6     24.5       6.6          2.4       0.1           W   \n",
              "3  2/4/2008     20.2     22.8      18.8          2.2       0.0           W   \n",
              "4  2/5/2008     19.7     25.7      77.4          4.8       0.0           W   \n",
              "\n",
              "   WindGustSpeed WindDir9am WindDir3pm  ...  Humidity9am  Humidity3pm  \\\n",
              "0             41          S        SSW  ...           92           84   \n",
              "1             41          W          E  ...           83           73   \n",
              "2             41        ESE        ESE  ...           88           86   \n",
              "3             41        NNE          E  ...           83           90   \n",
              "4             41        NNE          W  ...           88           74   \n",
              "\n",
              "   Pressure9am  Pressure3pm  Cloud9am  Cloud3pm  Temp9am  Temp3pm  RainToday  \\\n",
              "0       1017.6       1017.4         8         8     20.7     20.9        Yes   \n",
              "1       1017.9       1016.4         7         7     22.4     24.8        Yes   \n",
              "2       1016.7       1015.6         7         8     23.5     23.0        Yes   \n",
              "3       1014.2       1011.8         8         8     21.4     20.9        Yes   \n",
              "4       1008.3       1004.8         8         8     22.5     25.5        Yes   \n",
              "\n",
              "   RainTomorrow  \n",
              "0           Yes  \n",
              "1           Yes  \n",
              "2           Yes  \n",
              "3           Yes  \n",
              "4           Yes  \n",
              "\n",
              "[5 rows x 22 columns]"
            ],
            "text/html": [
              "\n",
              "  <div id=\"df-7b12ee19-573f-40e0-bf54-7aa506e3a1ad\" class=\"colab-df-container\">\n",
              "    <div>\n",
              "<style scoped>\n",
              "    .dataframe tbody tr th:only-of-type {\n",
              "        vertical-align: middle;\n",
              "    }\n",
              "\n",
              "    .dataframe tbody tr th {\n",
              "        vertical-align: top;\n",
              "    }\n",
              "\n",
              "    .dataframe thead th {\n",
              "        text-align: right;\n",
              "    }\n",
              "</style>\n",
              "<table border=\"1\" class=\"dataframe\">\n",
              "  <thead>\n",
              "    <tr style=\"text-align: right;\">\n",
              "      <th></th>\n",
              "      <th>Date</th>\n",
              "      <th>MinTemp</th>\n",
              "      <th>MaxTemp</th>\n",
              "      <th>Rainfall</th>\n",
              "      <th>Evaporation</th>\n",
              "      <th>Sunshine</th>\n",
              "      <th>WindGustDir</th>\n",
              "      <th>WindGustSpeed</th>\n",
              "      <th>WindDir9am</th>\n",
              "      <th>WindDir3pm</th>\n",
              "      <th>...</th>\n",
              "      <th>Humidity9am</th>\n",
              "      <th>Humidity3pm</th>\n",
              "      <th>Pressure9am</th>\n",
              "      <th>Pressure3pm</th>\n",
              "      <th>Cloud9am</th>\n",
              "      <th>Cloud3pm</th>\n",
              "      <th>Temp9am</th>\n",
              "      <th>Temp3pm</th>\n",
              "      <th>RainToday</th>\n",
              "      <th>RainTomorrow</th>\n",
              "    </tr>\n",
              "  </thead>\n",
              "  <tbody>\n",
              "    <tr>\n",
              "      <th>0</th>\n",
              "      <td>2/1/2008</td>\n",
              "      <td>19.5</td>\n",
              "      <td>22.4</td>\n",
              "      <td>15.6</td>\n",
              "      <td>6.2</td>\n",
              "      <td>0.0</td>\n",
              "      <td>W</td>\n",
              "      <td>41</td>\n",
              "      <td>S</td>\n",
              "      <td>SSW</td>\n",
              "      <td>...</td>\n",
              "      <td>92</td>\n",
              "      <td>84</td>\n",
              "      <td>1017.6</td>\n",
              "      <td>1017.4</td>\n",
              "      <td>8</td>\n",
              "      <td>8</td>\n",
              "      <td>20.7</td>\n",
              "      <td>20.9</td>\n",
              "      <td>Yes</td>\n",
              "      <td>Yes</td>\n",
              "    </tr>\n",
              "    <tr>\n",
              "      <th>1</th>\n",
              "      <td>2/2/2008</td>\n",
              "      <td>19.5</td>\n",
              "      <td>25.6</td>\n",
              "      <td>6.0</td>\n",
              "      <td>3.4</td>\n",
              "      <td>2.7</td>\n",
              "      <td>W</td>\n",
              "      <td>41</td>\n",
              "      <td>W</td>\n",
              "      <td>E</td>\n",
              "      <td>...</td>\n",
              "      <td>83</td>\n",
              "      <td>73</td>\n",
              "      <td>1017.9</td>\n",
              "      <td>1016.4</td>\n",
              "      <td>7</td>\n",
              "      <td>7</td>\n",
              "      <td>22.4</td>\n",
              "      <td>24.8</td>\n",
              "      <td>Yes</td>\n",
              "      <td>Yes</td>\n",
              "    </tr>\n",
              "    <tr>\n",
              "      <th>2</th>\n",
              "      <td>2/3/2008</td>\n",
              "      <td>21.6</td>\n",
              "      <td>24.5</td>\n",
              "      <td>6.6</td>\n",
              "      <td>2.4</td>\n",
              "      <td>0.1</td>\n",
              "      <td>W</td>\n",
              "      <td>41</td>\n",
              "      <td>ESE</td>\n",
              "      <td>ESE</td>\n",
              "      <td>...</td>\n",
              "      <td>88</td>\n",
              "      <td>86</td>\n",
              "      <td>1016.7</td>\n",
              "      <td>1015.6</td>\n",
              "      <td>7</td>\n",
              "      <td>8</td>\n",
              "      <td>23.5</td>\n",
              "      <td>23.0</td>\n",
              "      <td>Yes</td>\n",
              "      <td>Yes</td>\n",
              "    </tr>\n",
              "    <tr>\n",
              "      <th>3</th>\n",
              "      <td>2/4/2008</td>\n",
              "      <td>20.2</td>\n",
              "      <td>22.8</td>\n",
              "      <td>18.8</td>\n",
              "      <td>2.2</td>\n",
              "      <td>0.0</td>\n",
              "      <td>W</td>\n",
              "      <td>41</td>\n",
              "      <td>NNE</td>\n",
              "      <td>E</td>\n",
              "      <td>...</td>\n",
              "      <td>83</td>\n",
              "      <td>90</td>\n",
              "      <td>1014.2</td>\n",
              "      <td>1011.8</td>\n",
              "      <td>8</td>\n",
              "      <td>8</td>\n",
              "      <td>21.4</td>\n",
              "      <td>20.9</td>\n",
              "      <td>Yes</td>\n",
              "      <td>Yes</td>\n",
              "    </tr>\n",
              "    <tr>\n",
              "      <th>4</th>\n",
              "      <td>2/5/2008</td>\n",
              "      <td>19.7</td>\n",
              "      <td>25.7</td>\n",
              "      <td>77.4</td>\n",
              "      <td>4.8</td>\n",
              "      <td>0.0</td>\n",
              "      <td>W</td>\n",
              "      <td>41</td>\n",
              "      <td>NNE</td>\n",
              "      <td>W</td>\n",
              "      <td>...</td>\n",
              "      <td>88</td>\n",
              "      <td>74</td>\n",
              "      <td>1008.3</td>\n",
              "      <td>1004.8</td>\n",
              "      <td>8</td>\n",
              "      <td>8</td>\n",
              "      <td>22.5</td>\n",
              "      <td>25.5</td>\n",
              "      <td>Yes</td>\n",
              "      <td>Yes</td>\n",
              "    </tr>\n",
              "  </tbody>\n",
              "</table>\n",
              "<p>5 rows × 22 columns</p>\n",
              "</div>\n",
              "    <div class=\"colab-df-buttons\">\n",
              "\n",
              "  <div class=\"colab-df-container\">\n",
              "    <button class=\"colab-df-convert\" onclick=\"convertToInteractive('df-7b12ee19-573f-40e0-bf54-7aa506e3a1ad')\"\n",
              "            title=\"Convert this dataframe to an interactive table.\"\n",
              "            style=\"display:none;\">\n",
              "\n",
              "  <svg xmlns=\"http://www.w3.org/2000/svg\" height=\"24px\" viewBox=\"0 -960 960 960\">\n",
              "    <path d=\"M120-120v-720h720v720H120Zm60-500h600v-160H180v160Zm220 220h160v-160H400v160Zm0 220h160v-160H400v160ZM180-400h160v-160H180v160Zm440 0h160v-160H620v160ZM180-180h160v-160H180v160Zm440 0h160v-160H620v160Z\"/>\n",
              "  </svg>\n",
              "    </button>\n",
              "\n",
              "  <style>\n",
              "    .colab-df-container {\n",
              "      display:flex;\n",
              "      gap: 12px;\n",
              "    }\n",
              "\n",
              "    .colab-df-convert {\n",
              "      background-color: #E8F0FE;\n",
              "      border: none;\n",
              "      border-radius: 50%;\n",
              "      cursor: pointer;\n",
              "      display: none;\n",
              "      fill: #1967D2;\n",
              "      height: 32px;\n",
              "      padding: 0 0 0 0;\n",
              "      width: 32px;\n",
              "    }\n",
              "\n",
              "    .colab-df-convert:hover {\n",
              "      background-color: #E2EBFA;\n",
              "      box-shadow: 0px 1px 2px rgba(60, 64, 67, 0.3), 0px 1px 3px 1px rgba(60, 64, 67, 0.15);\n",
              "      fill: #174EA6;\n",
              "    }\n",
              "\n",
              "    .colab-df-buttons div {\n",
              "      margin-bottom: 4px;\n",
              "    }\n",
              "\n",
              "    [theme=dark] .colab-df-convert {\n",
              "      background-color: #3B4455;\n",
              "      fill: #D2E3FC;\n",
              "    }\n",
              "\n",
              "    [theme=dark] .colab-df-convert:hover {\n",
              "      background-color: #434B5C;\n",
              "      box-shadow: 0px 1px 3px 1px rgba(0, 0, 0, 0.15);\n",
              "      filter: drop-shadow(0px 1px 2px rgba(0, 0, 0, 0.3));\n",
              "      fill: #FFFFFF;\n",
              "    }\n",
              "  </style>\n",
              "\n",
              "    <script>\n",
              "      const buttonEl =\n",
              "        document.querySelector('#df-7b12ee19-573f-40e0-bf54-7aa506e3a1ad button.colab-df-convert');\n",
              "      buttonEl.style.display =\n",
              "        google.colab.kernel.accessAllowed ? 'block' : 'none';\n",
              "\n",
              "      async function convertToInteractive(key) {\n",
              "        const element = document.querySelector('#df-7b12ee19-573f-40e0-bf54-7aa506e3a1ad');\n",
              "        const dataTable =\n",
              "          await google.colab.kernel.invokeFunction('convertToInteractive',\n",
              "                                                    [key], {});\n",
              "        if (!dataTable) return;\n",
              "\n",
              "        const docLinkHtml = 'Like what you see? Visit the ' +\n",
              "          '<a target=\"_blank\" href=https://colab.research.google.com/notebooks/data_table.ipynb>data table notebook</a>'\n",
              "          + ' to learn more about interactive tables.';\n",
              "        element.innerHTML = '';\n",
              "        dataTable['output_type'] = 'display_data';\n",
              "        await google.colab.output.renderOutput(dataTable, element);\n",
              "        const docLink = document.createElement('div');\n",
              "        docLink.innerHTML = docLinkHtml;\n",
              "        element.appendChild(docLink);\n",
              "      }\n",
              "    </script>\n",
              "  </div>\n",
              "\n",
              "\n",
              "<div id=\"df-f7a255a4-4d4f-43be-b667-844a013c2470\">\n",
              "  <button class=\"colab-df-quickchart\" onclick=\"quickchart('df-f7a255a4-4d4f-43be-b667-844a013c2470')\"\n",
              "            title=\"Suggest charts\"\n",
              "            style=\"display:none;\">\n",
              "\n",
              "<svg xmlns=\"http://www.w3.org/2000/svg\" height=\"24px\"viewBox=\"0 0 24 24\"\n",
              "     width=\"24px\">\n",
              "    <g>\n",
              "        <path d=\"M19 3H5c-1.1 0-2 .9-2 2v14c0 1.1.9 2 2 2h14c1.1 0 2-.9 2-2V5c0-1.1-.9-2-2-2zM9 17H7v-7h2v7zm4 0h-2V7h2v10zm4 0h-2v-4h2v4z\"/>\n",
              "    </g>\n",
              "</svg>\n",
              "  </button>\n",
              "\n",
              "<style>\n",
              "  .colab-df-quickchart {\n",
              "      --bg-color: #E8F0FE;\n",
              "      --fill-color: #1967D2;\n",
              "      --hover-bg-color: #E2EBFA;\n",
              "      --hover-fill-color: #174EA6;\n",
              "      --disabled-fill-color: #AAA;\n",
              "      --disabled-bg-color: #DDD;\n",
              "  }\n",
              "\n",
              "  [theme=dark] .colab-df-quickchart {\n",
              "      --bg-color: #3B4455;\n",
              "      --fill-color: #D2E3FC;\n",
              "      --hover-bg-color: #434B5C;\n",
              "      --hover-fill-color: #FFFFFF;\n",
              "      --disabled-bg-color: #3B4455;\n",
              "      --disabled-fill-color: #666;\n",
              "  }\n",
              "\n",
              "  .colab-df-quickchart {\n",
              "    background-color: var(--bg-color);\n",
              "    border: none;\n",
              "    border-radius: 50%;\n",
              "    cursor: pointer;\n",
              "    display: none;\n",
              "    fill: var(--fill-color);\n",
              "    height: 32px;\n",
              "    padding: 0;\n",
              "    width: 32px;\n",
              "  }\n",
              "\n",
              "  .colab-df-quickchart:hover {\n",
              "    background-color: var(--hover-bg-color);\n",
              "    box-shadow: 0 1px 2px rgba(60, 64, 67, 0.3), 0 1px 3px 1px rgba(60, 64, 67, 0.15);\n",
              "    fill: var(--button-hover-fill-color);\n",
              "  }\n",
              "\n",
              "  .colab-df-quickchart-complete:disabled,\n",
              "  .colab-df-quickchart-complete:disabled:hover {\n",
              "    background-color: var(--disabled-bg-color);\n",
              "    fill: var(--disabled-fill-color);\n",
              "    box-shadow: none;\n",
              "  }\n",
              "\n",
              "  .colab-df-spinner {\n",
              "    border: 2px solid var(--fill-color);\n",
              "    border-color: transparent;\n",
              "    border-bottom-color: var(--fill-color);\n",
              "    animation:\n",
              "      spin 1s steps(1) infinite;\n",
              "  }\n",
              "\n",
              "  @keyframes spin {\n",
              "    0% {\n",
              "      border-color: transparent;\n",
              "      border-bottom-color: var(--fill-color);\n",
              "      border-left-color: var(--fill-color);\n",
              "    }\n",
              "    20% {\n",
              "      border-color: transparent;\n",
              "      border-left-color: var(--fill-color);\n",
              "      border-top-color: var(--fill-color);\n",
              "    }\n",
              "    30% {\n",
              "      border-color: transparent;\n",
              "      border-left-color: var(--fill-color);\n",
              "      border-top-color: var(--fill-color);\n",
              "      border-right-color: var(--fill-color);\n",
              "    }\n",
              "    40% {\n",
              "      border-color: transparent;\n",
              "      border-right-color: var(--fill-color);\n",
              "      border-top-color: var(--fill-color);\n",
              "    }\n",
              "    60% {\n",
              "      border-color: transparent;\n",
              "      border-right-color: var(--fill-color);\n",
              "    }\n",
              "    80% {\n",
              "      border-color: transparent;\n",
              "      border-right-color: var(--fill-color);\n",
              "      border-bottom-color: var(--fill-color);\n",
              "    }\n",
              "    90% {\n",
              "      border-color: transparent;\n",
              "      border-bottom-color: var(--fill-color);\n",
              "    }\n",
              "  }\n",
              "</style>\n",
              "\n",
              "  <script>\n",
              "    async function quickchart(key) {\n",
              "      const quickchartButtonEl =\n",
              "        document.querySelector('#' + key + ' button');\n",
              "      quickchartButtonEl.disabled = true;  // To prevent multiple clicks.\n",
              "      quickchartButtonEl.classList.add('colab-df-spinner');\n",
              "      try {\n",
              "        const charts = await google.colab.kernel.invokeFunction(\n",
              "            'suggestCharts', [key], {});\n",
              "      } catch (error) {\n",
              "        console.error('Error during call to suggestCharts:', error);\n",
              "      }\n",
              "      quickchartButtonEl.classList.remove('colab-df-spinner');\n",
              "      quickchartButtonEl.classList.add('colab-df-quickchart-complete');\n",
              "    }\n",
              "    (() => {\n",
              "      let quickchartButtonEl =\n",
              "        document.querySelector('#df-f7a255a4-4d4f-43be-b667-844a013c2470 button');\n",
              "      quickchartButtonEl.style.display =\n",
              "        google.colab.kernel.accessAllowed ? 'block' : 'none';\n",
              "    })();\n",
              "  </script>\n",
              "</div>\n",
              "\n",
              "    </div>\n",
              "  </div>\n"
            ],
            "application/vnd.google.colaboratory.intrinsic+json": {
              "type": "dataframe",
              "variable_name": "df"
            }
          },
          "metadata": {},
          "execution_count": 396
        }
      ],
      "execution_count": 396
    },
    {
      "cell_type": "markdown",
      "source": [
        "### Data Preprocessing\n"
      ],
      "metadata": {
        "id": "rHiNIfQP_Kbg"
      }
    },
    {
      "cell_type": "markdown",
      "source": [
        "#### One Hot Encoding\n"
      ],
      "metadata": {
        "id": "MUh743rq_Kbh"
      }
    },
    {
      "cell_type": "markdown",
      "source": [
        "First, we need to perform one hot encoding to convert categorical variables to binary variables.\n"
      ],
      "metadata": {
        "id": "BZqoPI0l_Kbi"
      }
    },
    {
      "cell_type": "code",
      "source": [
        "df_sydney_processed = pd.get_dummies(data=df, columns=['RainToday', 'WindGustDir', 'WindDir9am', 'WindDir3pm'])"
      ],
      "metadata": {
        "id": "7k8TRRRV_Kbj"
      },
      "outputs": [],
      "execution_count": 397
    },
    {
      "cell_type": "markdown",
      "source": [
        "Next, we replace the values of the 'RainTomorrow' column changing them from a categorical column to a binary column. We do not use the `get_dummies` method because we would end up with two columns for 'RainTomorrow' and we do not want, since 'RainTomorrow' is our target.\n"
      ],
      "metadata": {
        "id": "asJsAaOa_Kbl"
      }
    },
    {
      "cell_type": "code",
      "source": [
        "df_sydney_processed.replace(['No', 'Yes'], [0,1], inplace=True)"
      ],
      "metadata": {
        "id": "14lcC1Gq_Kbm"
      },
      "outputs": [],
      "execution_count": 398
    },
    {
      "cell_type": "markdown",
      "source": [
        "### Training Data and Test Data\n"
      ],
      "metadata": {
        "id": "ulLt5zJq_Kbz"
      }
    },
    {
      "cell_type": "markdown",
      "source": [
        "Now, we set our 'features' or x values and our Y or target variable.\n"
      ],
      "metadata": {
        "id": "L_UMC_b2_Kbz"
      }
    },
    {
      "cell_type": "code",
      "source": [
        "df_sydney_processed.drop('Date',axis=1,inplace=True)"
      ],
      "metadata": {
        "id": "7WdHMEg8_Kb0"
      },
      "outputs": [],
      "execution_count": 399
    },
    {
      "cell_type": "code",
      "source": [
        "df_sydney_processed = df_sydney_processed.astype(float)"
      ],
      "metadata": {
        "id": "4W2BzSkN_Kb0"
      },
      "outputs": [],
      "execution_count": 400
    },
    {
      "cell_type": "code",
      "source": [
        "features = df_sydney_processed.drop(columns='RainTomorrow', axis=1)\n",
        "Y = df_sydney_processed['RainTomorrow']"
      ],
      "metadata": {
        "id": "aL8zDmng_Kb1"
      },
      "outputs": [],
      "execution_count": 401
    },
    {
      "cell_type": "markdown",
      "source": [
        "### Linear Regression\n"
      ],
      "metadata": {
        "id": "E0LmsFza_Kb4"
      }
    },
    {
      "cell_type": "markdown",
      "source": [
        "#### Q1) Use the `train_test_split` function to split the `features` and `Y` dataframes with a `test_size` of `0.2` and the `random_state` set to `10`.\n"
      ],
      "metadata": {
        "id": "gb2G3fiM_Kb5"
      }
    },
    {
      "cell_type": "code",
      "source": [
        "#Enter Your Code, Execute and take the Screenshot\n",
        "x_train, x_test, y_train, y_test = train_test_split(features, Y, test_size = .2, random_state = 10)\n",
        "print(f\"The dimenssions of the  train set's: {x_train.shape} \\n \\t \\t \\t \\t     {y_train.shape}\\nThe dimenssions of the  test set's: {x_test.shape} \\n \\t \\t \\t \\t    {y_test.shape}\")"
      ],
      "metadata": {
        "colab": {
          "base_uri": "https://localhost:8080/"
        },
        "id": "bEHJGBAj_Kb6",
        "outputId": "8a5b4ac3-0e90-490b-c7b2-be8a473204e9"
      },
      "outputs": [
        {
          "output_type": "stream",
          "name": "stdout",
          "text": [
            "The dimenssions of the  train set's: (2616, 66) \n",
            " \t \t \t \t     (2616,)\n",
            "The dimenssions of the  test set's: (655, 66) \n",
            " \t \t \t \t    (655,)\n"
          ]
        }
      ],
      "execution_count": 402
    },
    {
      "cell_type": "markdown",
      "source": [
        "#### Q2) Create and train a Linear Regression model called LinearReg using the training data (`x_train`, `y_train`).\n"
      ],
      "metadata": {
        "id": "A9EB0fKH_Kb7"
      }
    },
    {
      "cell_type": "code",
      "source": [
        "#Enter Your Code, Execute and take the Screenshot"
      ],
      "metadata": {
        "id": "L1xXVoH0_Kb9"
      },
      "outputs": [],
      "execution_count": 403
    },
    {
      "cell_type": "code",
      "source": [
        "LinearReg = LinearRegression()\n",
        "LinearReg.fit(x_train,y_train)\n",
        "LinearReg"
      ],
      "metadata": {
        "colab": {
          "base_uri": "https://localhost:8080/",
          "height": 75
        },
        "id": "w_uoj4sm_Kb-",
        "outputId": "c36e1c2a-87e2-41aa-a15f-c92a8eead724"
      },
      "outputs": [
        {
          "output_type": "execute_result",
          "data": {
            "text/plain": [
              "LinearRegression()"
            ],
            "text/html": [
              "<style>#sk-container-id-39 {color: black;background-color: white;}#sk-container-id-39 pre{padding: 0;}#sk-container-id-39 div.sk-toggleable {background-color: white;}#sk-container-id-39 label.sk-toggleable__label {cursor: pointer;display: block;width: 100%;margin-bottom: 0;padding: 0.3em;box-sizing: border-box;text-align: center;}#sk-container-id-39 label.sk-toggleable__label-arrow:before {content: \"▸\";float: left;margin-right: 0.25em;color: #696969;}#sk-container-id-39 label.sk-toggleable__label-arrow:hover:before {color: black;}#sk-container-id-39 div.sk-estimator:hover label.sk-toggleable__label-arrow:before {color: black;}#sk-container-id-39 div.sk-toggleable__content {max-height: 0;max-width: 0;overflow: hidden;text-align: left;background-color: #f0f8ff;}#sk-container-id-39 div.sk-toggleable__content pre {margin: 0.2em;color: black;border-radius: 0.25em;background-color: #f0f8ff;}#sk-container-id-39 input.sk-toggleable__control:checked~div.sk-toggleable__content {max-height: 200px;max-width: 100%;overflow: auto;}#sk-container-id-39 input.sk-toggleable__control:checked~label.sk-toggleable__label-arrow:before {content: \"▾\";}#sk-container-id-39 div.sk-estimator input.sk-toggleable__control:checked~label.sk-toggleable__label {background-color: #d4ebff;}#sk-container-id-39 div.sk-label input.sk-toggleable__control:checked~label.sk-toggleable__label {background-color: #d4ebff;}#sk-container-id-39 input.sk-hidden--visually {border: 0;clip: rect(1px 1px 1px 1px);clip: rect(1px, 1px, 1px, 1px);height: 1px;margin: -1px;overflow: hidden;padding: 0;position: absolute;width: 1px;}#sk-container-id-39 div.sk-estimator {font-family: monospace;background-color: #f0f8ff;border: 1px dotted black;border-radius: 0.25em;box-sizing: border-box;margin-bottom: 0.5em;}#sk-container-id-39 div.sk-estimator:hover {background-color: #d4ebff;}#sk-container-id-39 div.sk-parallel-item::after {content: \"\";width: 100%;border-bottom: 1px solid gray;flex-grow: 1;}#sk-container-id-39 div.sk-label:hover label.sk-toggleable__label {background-color: #d4ebff;}#sk-container-id-39 div.sk-serial::before {content: \"\";position: absolute;border-left: 1px solid gray;box-sizing: border-box;top: 0;bottom: 0;left: 50%;z-index: 0;}#sk-container-id-39 div.sk-serial {display: flex;flex-direction: column;align-items: center;background-color: white;padding-right: 0.2em;padding-left: 0.2em;position: relative;}#sk-container-id-39 div.sk-item {position: relative;z-index: 1;}#sk-container-id-39 div.sk-parallel {display: flex;align-items: stretch;justify-content: center;background-color: white;position: relative;}#sk-container-id-39 div.sk-item::before, #sk-container-id-39 div.sk-parallel-item::before {content: \"\";position: absolute;border-left: 1px solid gray;box-sizing: border-box;top: 0;bottom: 0;left: 50%;z-index: -1;}#sk-container-id-39 div.sk-parallel-item {display: flex;flex-direction: column;z-index: 1;position: relative;background-color: white;}#sk-container-id-39 div.sk-parallel-item:first-child::after {align-self: flex-end;width: 50%;}#sk-container-id-39 div.sk-parallel-item:last-child::after {align-self: flex-start;width: 50%;}#sk-container-id-39 div.sk-parallel-item:only-child::after {width: 0;}#sk-container-id-39 div.sk-dashed-wrapped {border: 1px dashed gray;margin: 0 0.4em 0.5em 0.4em;box-sizing: border-box;padding-bottom: 0.4em;background-color: white;}#sk-container-id-39 div.sk-label label {font-family: monospace;font-weight: bold;display: inline-block;line-height: 1.2em;}#sk-container-id-39 div.sk-label-container {text-align: center;}#sk-container-id-39 div.sk-container {/* jupyter's `normalize.less` sets `[hidden] { display: none; }` but bootstrap.min.css set `[hidden] { display: none !important; }` so we also need the `!important` here to be able to override the default hidden behavior on the sphinx rendered scikit-learn.org. See: https://github.com/scikit-learn/scikit-learn/issues/21755 */display: inline-block !important;position: relative;}#sk-container-id-39 div.sk-text-repr-fallback {display: none;}</style><div id=\"sk-container-id-39\" class=\"sk-top-container\"><div class=\"sk-text-repr-fallback\"><pre>LinearRegression()</pre><b>In a Jupyter environment, please rerun this cell to show the HTML representation or trust the notebook. <br />On GitHub, the HTML representation is unable to render, please try loading this page with nbviewer.org.</b></div><div class=\"sk-container\" hidden><div class=\"sk-item\"><div class=\"sk-estimator sk-toggleable\"><input class=\"sk-toggleable__control sk-hidden--visually\" id=\"sk-estimator-id-39\" type=\"checkbox\" checked><label for=\"sk-estimator-id-39\" class=\"sk-toggleable__label sk-toggleable__label-arrow\">LinearRegression</label><div class=\"sk-toggleable__content\"><pre>LinearRegression()</pre></div></div></div></div></div>"
            ]
          },
          "metadata": {},
          "execution_count": 404
        }
      ],
      "execution_count": 404
    },
    {
      "cell_type": "markdown",
      "source": [
        "#### Q3) Now use the `predict` method on the testing data (`x_test`) and save it to the array `predictions`.\n"
      ],
      "metadata": {
        "id": "26dH1nYI_Kb_"
      }
    },
    {
      "cell_type": "code",
      "source": [
        "#Enter Your Code, Execute and take the Screenshot"
      ],
      "metadata": {
        "id": "OFCV78Fo_Kb_"
      },
      "outputs": [],
      "execution_count": 405
    },
    {
      "cell_type": "code",
      "source": [
        "predictions = LinearReg.predict(x_test)\n",
        "predictions"
      ],
      "metadata": {
        "colab": {
          "base_uri": "https://localhost:8080/"
        },
        "id": "RMI0nj03_KcA",
        "outputId": "12c3db82-c011-47c8-ea8d-b242e2085804"
      },
      "outputs": [
        {
          "output_type": "execute_result",
          "data": {
            "text/plain": [
              "array([ 1.31546021e-01,  2.76123047e-01,  9.78118896e-01,  2.87567139e-01,\n",
              "        1.32431030e-01,  4.60571289e-01,  3.56704712e-01,  8.56384277e-01,\n",
              "        6.75079346e-01,  3.82385254e-02,  4.85229492e-03,  2.81097412e-01,\n",
              "        3.39157104e-01,  7.79113770e-02,  6.26525879e-02,  5.64575195e-01,\n",
              "       -6.15539551e-02,  5.24200439e-01,  1.53778076e-01,  3.59802246e-01,\n",
              "        6.04705811e-02,  9.03701782e-01,  4.67239380e-01,  2.03430176e-01,\n",
              "       -7.11669922e-02,  3.83895874e-01,  5.36193848e-01, -2.29187012e-02,\n",
              "        6.39862061e-01, -9.59320068e-02,  3.77960205e-01,  1.20300293e-01,\n",
              "       -1.81732178e-02,  5.53131104e-02,  5.63537598e-01,  1.06314087e+00,\n",
              "       -6.79016113e-03,  5.14434814e-01, -8.83331299e-02,  6.91833496e-02,\n",
              "        2.45056152e-02,  8.71856689e-01,  2.44674683e-01,  3.94897461e-01,\n",
              "        2.67486572e-01,  4.46868896e-01, -4.75463867e-02,  1.89315796e-01,\n",
              "        7.76901245e-01,  1.57638550e-01,  3.60107422e-03, -5.19409180e-02,\n",
              "        2.07504272e-01, -2.07901001e-01, -7.61108398e-02,  2.49649048e-01,\n",
              "        2.79327393e-01,  6.02844238e-01,  6.29455566e-01,  4.90554810e-01,\n",
              "        5.63812256e-02,  1.05560303e-01,  6.70028687e-01,  7.64953613e-01,\n",
              "        9.84802246e-02, -6.34155273e-02,  4.13925171e-01,  7.25860596e-02,\n",
              "        2.50000000e-01,  2.56347656e-01,  3.79180908e-02, -6.88323975e-02,\n",
              "        3.48358154e-01,  1.73202515e-01,  4.15451050e-01, -7.24639893e-02,\n",
              "        3.40866089e-01,  1.86828613e-01, -1.54922485e-01,  7.99942017e-01,\n",
              "        2.32421875e-01,  2.37319946e-01,  2.56149292e-01,  1.03485107e-01,\n",
              "        6.20758057e-01,  1.29638672e-01,  3.71643066e-01,  4.82772827e-01,\n",
              "        3.08349609e-01,  1.19461060e-01,  5.48858643e-02,  1.12777710e-01,\n",
              "       -1.62368774e-01, -1.57974243e-01,  7.29827881e-02,  7.76565552e-01,\n",
              "        8.43048096e-02,  6.43341064e-01,  1.21780396e-01,  1.78054810e-01,\n",
              "        3.05130005e-01,  1.85531616e-01,  1.13157654e+00,  3.44482422e-01,\n",
              "        8.26995850e-01,  5.38986206e-01,  2.74108887e-01,  6.29516602e-01,\n",
              "       -6.72912598e-02,  9.63714600e-01,  5.61706543e-01,  2.33764648e-02,\n",
              "        1.05560303e-01,  9.37347412e-02,  8.15734863e-02,  2.92037964e-01,\n",
              "        5.55114746e-01,  6.68640137e-02,  4.24804688e-02,  9.46044922e-04,\n",
              "        1.37664795e-01, -2.18048096e-01,  7.01599121e-02,  1.19537354e-01,\n",
              "        1.92565918e-01, -3.82537842e-02,  1.55975342e-01,  7.12814331e-01,\n",
              "        2.62268066e-01,  5.35064697e-01,  3.97888184e-01, -4.66003418e-02,\n",
              "        2.43850708e-01,  2.06344604e-01,  2.80334473e-01, -1.28158569e-01,\n",
              "        1.19506836e-01,  3.83331299e-01,  1.84326172e-01,  7.28607178e-01,\n",
              "        3.31817627e-01, -1.03149414e-01,  2.39562988e-01,  3.05938721e-01,\n",
              "        6.63299561e-01,  2.22015381e-02,  1.60125732e-01,  5.21759033e-01,\n",
              "       -4.34570312e-02,  7.98370361e-01,  2.21603394e-01,  3.90014648e-01,\n",
              "       -5.64422607e-02,  4.02343750e-01,  2.34039307e-01,  1.20483398e-01,\n",
              "        3.05465698e-01,  7.86407471e-01,  3.32489014e-02,  1.22567749e+00,\n",
              "        8.94805908e-01,  8.16040039e-02, -1.52893066e-02,  1.70989990e-01,\n",
              "       -6.86187744e-02, -1.07894897e-01, -5.02319336e-02,  2.98690796e-01,\n",
              "        3.57162476e-01,  9.57031250e-02,  8.85498047e-01, -3.35845947e-02,\n",
              "        5.99456787e-01,  8.95690918e-02,  9.84191895e-02,  3.54202271e-01,\n",
              "        2.35809326e-01, -6.73828125e-02,  1.44332886e-01,  4.17922974e-01,\n",
              "        5.87570190e-01,  2.16812134e-01, -3.31726074e-02,  1.00643921e+00,\n",
              "        4.24804688e-02, -1.73797607e-02,  2.48291016e-01, -5.93719482e-02,\n",
              "        2.22320557e-01, -7.19451904e-02,  8.47778320e-02,  7.13958740e-02,\n",
              "        3.48968506e-02,  4.43664551e-01,  1.86676025e-01,  1.83105469e-01,\n",
              "        7.56530762e-02,  1.38092041e-02,  1.84722900e-01,  2.32391357e-01,\n",
              "        5.30700684e-01,  1.60430908e-01,  3.95294189e-01, -4.48913574e-02,\n",
              "        8.39309692e-01,  1.64947510e-02, -1.70288086e-02, -2.14538574e-02,\n",
              "        1.46362305e-01,  1.38290405e-01, -3.35540771e-02,  4.14825439e-01,\n",
              "        6.57440186e-01, -4.82177734e-03,  2.87475586e-02,  4.60510254e-02,\n",
              "       -7.20825195e-02,  2.73849487e-01,  5.28732300e-01, -5.92041016e-02,\n",
              "        8.43353271e-01,  3.25851440e-01,  3.19046021e-01,  3.62548828e-02,\n",
              "       -8.51898193e-02,  2.83386230e-01,  3.01025391e-01,  1.37664795e-01,\n",
              "        3.35800171e-01,  4.12536621e-01,  3.75411987e-01,  1.24221802e-01,\n",
              "        2.88101196e-01,  9.06250000e-01,  4.45678711e-01,  2.74688721e-01,\n",
              "       -6.65283203e-03,  6.91864014e-01,  6.72149658e-01,  1.15356445e-01,\n",
              "        7.74719238e-01,  9.94506836e-01,  5.87738037e-01,  3.14163208e-01,\n",
              "        2.26425171e-01, -4.47540283e-02,  2.26058960e-01,  2.30575562e-01,\n",
              "        3.55133057e-01, -1.26693726e-01,  3.50189209e-02,  1.82342529e-01,\n",
              "        2.15454102e-01,  1.76025391e-01, -2.96783447e-02,  1.00065613e+00,\n",
              "        1.88232422e-01,  7.52197266e-01,  6.19964600e-01,  7.17987061e-01,\n",
              "        3.15414429e-01,  2.23693848e-02,  3.26568604e-01, -6.94274902e-03,\n",
              "        2.81585693e-01, -2.27966309e-02,  7.99560547e-02, -2.38037109e-03,\n",
              "        3.57284546e-01,  1.36428833e-01,  2.65731812e-01,  1.39923096e-02,\n",
              "        2.21237183e-01,  7.07550049e-01,  1.59500122e-01,  2.04589844e-01,\n",
              "        5.38345337e-01, -1.52709961e-01,  2.54791260e-01,  2.76397705e-01,\n",
              "        2.64053345e-01,  6.69708252e-02,  9.74517822e-01,  2.00042725e-01,\n",
              "        7.55844116e-01, -3.50952148e-02,  4.87625122e-01,  5.88989258e-03,\n",
              "       -7.24487305e-02,  3.05633545e-01, -2.05078125e-01,  1.90795898e-01,\n",
              "       -2.45666504e-02, -7.71484375e-02,  2.79006958e-01,  7.84301758e-02,\n",
              "        2.33917236e-01,  4.44778442e-01,  6.62231445e-02, -3.31268311e-02,\n",
              "        5.83160400e-01,  5.79071045e-02,  3.20480347e-01,  7.24258423e-01,\n",
              "        1.35223389e-01, -2.23541260e-02,  7.33306885e-01, -3.08364868e-01,\n",
              "        1.09149170e+00,  2.85949707e-01,  8.85375977e-01,  6.96670532e-01,\n",
              "        5.85388184e-01, -2.22015381e-02,  9.52224731e-01,  7.15026855e-01,\n",
              "        4.48623657e-01,  5.80657959e-01,  1.87118530e-01,  2.29675293e-01,\n",
              "       -5.78155518e-02,  3.15155029e-01,  8.74847412e-01, -1.67541504e-02,\n",
              "        2.52655029e-01, -3.35388184e-02, -4.39910889e-02,  4.12750244e-02,\n",
              "        2.35961914e-01,  2.03125000e-01,  8.82217407e-01,  5.87356567e-01,\n",
              "        1.20132446e-01, -2.02484131e-02, -1.92718506e-02,  1.03424072e-01,\n",
              "        8.31604004e-03,  2.29217529e-01, -1.69219971e-02,  7.15332031e-02,\n",
              "        1.62719727e-01,  1.70150757e-01,  2.46490479e-01,  1.47766113e-01,\n",
              "        3.91632080e-01, -6.66809082e-02,  1.15692139e-01,  1.84600830e-01,\n",
              "        9.06677246e-02, -1.82647705e-02,  2.09320068e-01, -1.29089355e-02,\n",
              "        5.46524048e-01,  4.15878296e-01,  1.78375244e-01,  1.72119141e-02,\n",
              "        4.93942261e-01,  1.47216797e-01,  5.24978638e-01,  5.98175049e-01,\n",
              "        3.08471680e-01,  3.09432983e-01,  4.46380615e-01,  1.68136597e-01,\n",
              "        2.60742188e-01,  7.56225586e-01,  4.06311035e-01,  4.90661621e-01,\n",
              "        5.14343262e-01, -1.30233765e-01,  7.88269043e-02,  3.50738525e-01,\n",
              "        1.00474548e+00,  2.73468018e-01,  6.35589600e-01,  5.78659058e-01,\n",
              "        4.68322754e-01,  3.78417969e-03,  3.59130859e-01,  6.74743652e-02,\n",
              "       -4.23736572e-02,  7.03353882e-01,  1.27059937e-01,  8.00125122e-01,\n",
              "        4.70825195e-01, -1.74255371e-02,  2.93273926e-02,  5.55297852e-01,\n",
              "        5.01708984e-02,  1.15341187e-01, -9.67407227e-03,  1.47537231e-01,\n",
              "        4.71298218e-01, -9.27886963e-02,  8.05358887e-02,  3.11126709e-02,\n",
              "        3.94760132e-01,  2.23663330e-01,  1.00350952e+00,  7.08328247e-01,\n",
              "        3.55865479e-01,  2.62908936e-01, -2.83966064e-02, -9.68933105e-03,\n",
              "        3.09448242e-02,  1.41693115e-01,  7.82775879e-02,  5.12496948e-01,\n",
              "        2.04772949e-01,  3.11676025e-01,  5.28579712e-01,  4.61791992e-01,\n",
              "        5.36651611e-02,  8.17352295e-01,  5.33950806e-01, -1.38153076e-01,\n",
              "        5.09460449e-01,  1.94152832e-01,  4.56192017e-01,  1.85195923e-01,\n",
              "        2.21710205e-01,  1.15570068e-01,  6.31713867e-02,  7.36389160e-02,\n",
              "        1.02554321e-01,  5.51559448e-01,  7.03002930e-01,  5.22216797e-01,\n",
              "        5.34957886e-01,  3.19519043e-02,  1.11236572e-01, -1.18713379e-01,\n",
              "        5.32028198e-01, -1.74362183e-01,  4.54544067e-01,  9.74563599e-01,\n",
              "        4.18090820e-01, -1.16149902e-01,  8.70834351e-01,  1.62246704e-01,\n",
              "        6.13067627e-01,  3.17138672e-01, -7.86743164e-02,  4.93911743e-01,\n",
              "        7.45086670e-01,  6.06384277e-02,  6.03027344e-02,  2.36877441e-01,\n",
              "        5.79315186e-01,  1.10870361e-01,  3.81729126e-01,  6.02279663e-01,\n",
              "        5.85937500e-02,  2.21740723e-01,  3.88931274e-01,  6.63757324e-01,\n",
              "        1.56051636e-01,  3.97354126e-01,  5.80291748e-01,  5.03906250e-01,\n",
              "        1.06338501e-01,  1.49627686e-01,  2.33261108e-01, -3.38745117e-03,\n",
              "       -2.86865234e-02,  2.65960693e-01,  2.60559082e-01, -6.16912842e-02,\n",
              "        1.46118164e-01,  8.25027466e-01,  5.68481445e-01, -9.55657959e-02,\n",
              "       -1.02600098e-01,  8.49609375e-02,  1.61590576e-01, -7.94219971e-02,\n",
              "        9.44091797e-01,  7.93762207e-02,  3.38500977e-01,  1.57943726e-01,\n",
              "       -6.94885254e-02,  2.15057373e-01,  4.79034424e-01,  2.16369629e-02,\n",
              "        5.34484863e-01,  1.42547607e-01, -1.58401489e-01,  1.00402832e-02,\n",
              "        2.26821899e-01,  3.34732056e-01,  6.04705811e-02, -2.10266113e-02,\n",
              "       -1.07955933e-01,  3.34350586e-01,  5.10314941e-01,  3.45916748e-01,\n",
              "       -8.68072510e-02, -5.00030518e-02,  5.05432129e-01,  8.23822021e-02,\n",
              "        6.72454834e-02,  3.23257446e-01,  3.38287354e-01,  5.37231445e-01,\n",
              "        2.91839600e-01,  3.30612183e-01, -4.09851074e-02,  8.27560425e-01,\n",
              "        6.03485107e-01,  2.36724854e-01,  7.02377319e-01,  4.44686890e-01,\n",
              "        5.81268311e-01,  1.90002441e-01,  5.45501709e-02,  9.39025879e-02,\n",
              "       -6.77490234e-02,  1.05987549e-01, -2.49023438e-02, -2.96478271e-02,\n",
              "        6.54296875e-02,  9.60693359e-02,  1.03378296e-01,  1.77749634e-01,\n",
              "        1.02096558e-01,  6.64230347e-01,  1.97830200e-01,  1.04919434e-01,\n",
              "        1.13525391e-01, -3.25012207e-02,  1.46621704e-01,  4.65133667e-01,\n",
              "        7.55584717e-01,  2.03811646e-01,  4.90081787e-01, -1.01287842e-01,\n",
              "        6.61682129e-01,  7.53524780e-01,  9.01336670e-01,  7.73223877e-01,\n",
              "        2.73025513e-01,  2.98126221e-01,  1.87164307e-01,  7.20153809e-01,\n",
              "        2.29766846e-01,  3.34808350e-01,  8.51715088e-01,  3.03955078e-02,\n",
              "       -3.76892090e-03, -7.81860352e-02,  7.49847412e-01,  2.04757690e-01,\n",
              "        4.05944824e-01,  3.32305908e-01,  1.81991577e-01,  8.23577881e-01,\n",
              "        5.03265381e-01,  6.34292603e-01, -5.08270264e-02,  4.25567627e-02,\n",
              "        1.10977173e-01,  1.89163208e-01,  6.01089478e-01,  4.08813477e-01,\n",
              "        6.87881470e-01,  2.89840698e-01, -9.23156738e-02,  4.46929932e-02,\n",
              "        1.98822021e-01,  6.18804932e-01,  1.41662598e-01,  6.98974609e-01,\n",
              "        3.12026978e-01,  1.26846313e-01,  8.11584473e-01,  6.23931885e-02,\n",
              "       -1.04598999e-01,  6.59027100e-02,  1.23840332e-01,  5.18615723e-01,\n",
              "       -5.97534180e-02,  6.39877319e-01, -1.29699707e-02,  3.83911133e-02,\n",
              "       -1.05178833e-01,  1.96533203e-01,  3.36120605e-01,  4.88113403e-01,\n",
              "        1.93771362e-01,  7.93365479e-01,  1.69311523e-01,  8.55712891e-02,\n",
              "        1.68670654e-01,  1.73141479e-01,  3.23181152e-02,  4.69421387e-01,\n",
              "        2.03216553e-01,  8.46832275e-01,  4.20867920e-01,  2.17956543e-01,\n",
              "        1.81121826e-01,  1.54815674e-01,  7.26486206e-01,  4.45251465e-01,\n",
              "        4.87503052e-01,  1.01654053e-01,  4.13208008e-01, -1.13388062e-01,\n",
              "        1.79382324e-01, -9.67407227e-03,  1.39190674e-01,  1.12121582e-01,\n",
              "        6.09710693e-01,  2.16979980e-02,  1.88095093e-01, -1.35452271e-01,\n",
              "        7.06542969e-01,  4.33120728e-01, -5.83648682e-02,  9.28924561e-01,\n",
              "        5.40756226e-01, -1.67846680e-03,  9.19158936e-01, -2.18200684e-02,\n",
              "        1.65328979e-01,  1.77841187e-01,  4.72869873e-01, -2.77709961e-03,\n",
              "        4.00451660e-01,  1.41601562e-02,  1.95373535e-01, -6.79473877e-02,\n",
              "        5.87341309e-01,  1.92382812e-01,  2.33215332e-01,  2.73681641e-01,\n",
              "        9.40811157e-01,  7.10220337e-01,  1.33331299e-01,  7.35931396e-02,\n",
              "        5.58776855e-02, -2.26425171e-01,  4.07714844e-02,  5.17425537e-02,\n",
              "        3.08685303e-02,  2.93548584e-01,  9.69512939e-01,  7.98751831e-01,\n",
              "       -2.28576660e-02,  5.26428223e-02,  2.64831543e-01,  1.75109863e-01,\n",
              "        7.06512451e-01,  1.73828125e-01,  3.44436646e-01])"
            ]
          },
          "metadata": {},
          "execution_count": 406
        }
      ],
      "execution_count": 406
    },
    {
      "cell_type": "markdown",
      "source": [
        "#### Q4) Using the `predictions` and the `y_test` dataframe calculate the value for each metric using the appropriate function.\n"
      ],
      "metadata": {
        "id": "saM_YYDc_KcB"
      }
    },
    {
      "cell_type": "code",
      "source": [
        "#Enter Your Code, Execute and take the Screenshot"
      ],
      "metadata": {
        "id": "p3_TSPKc_Kcf"
      },
      "outputs": [],
      "execution_count": 407
    },
    {
      "cell_type": "code",
      "source": [
        "LinearRegression_MAE = metrics.mean_absolute_error(y_test, predictions)\n",
        "LinearRegression_MSE = metrics.mean_squared_error(y_test, predictions)\n",
        "LinearRegression_R2  = LinearReg.score(x_test,y_test)"
      ],
      "metadata": {
        "id": "LkbMAFcn_Kcg"
      },
      "outputs": [],
      "execution_count": 408
    },
    {
      "cell_type": "markdown",
      "source": [
        "#### Q5) Show the MAE, MSE, and R2 in a tabular format using data frame for the linear model.\n"
      ],
      "metadata": {
        "id": "yoFXt52K_Kcg"
      }
    },
    {
      "cell_type": "code",
      "source": [
        "#Enter Your Code, Execute and take the Screenshot"
      ],
      "metadata": {
        "id": "dko09Gw8_Kcj"
      },
      "outputs": [],
      "execution_count": 409
    },
    {
      "cell_type": "code",
      "source": [
        "from sklearn.metrics import r2_score\n",
        "from tabulate import tabulate\n",
        "dict = [[\"MAE\",LinearRegression_MAE],[\"MSE\",LinearRegression_MSE],\n",
        "       [\"R^2\",LinearRegression_R2]]\n",
        "Report_MLR = pd.DataFrame(dict)\n",
        "print(tabulate(Report_MLR))"
      ],
      "metadata": {
        "colab": {
          "base_uri": "https://localhost:8080/"
        },
        "id": "8uR_GjaD_Kcm",
        "outputId": "754ce651-d63c-4dbd-bf3f-c874372f1194"
      },
      "outputs": [
        {
          "output_type": "stream",
          "name": "stdout",
          "text": [
            "-  ---  --------\n",
            "0  MAE  0.256309\n",
            "1  MSE  0.115719\n",
            "2  R^2  0.427138\n",
            "-  ---  --------\n"
          ]
        }
      ],
      "execution_count": 410
    },
    {
      "cell_type": "markdown",
      "source": [
        "### KNN\n"
      ],
      "metadata": {
        "id": "mQk4v-Ml_Kcn"
      }
    },
    {
      "cell_type": "markdown",
      "source": [
        "#### Q6) Create and train a KNN model called KNN using the training data (`x_train`, `y_train`) with the `n_neighbors` parameter set to `4`.\n"
      ],
      "metadata": {
        "id": "HHM1WCRk_Kcp"
      }
    },
    {
      "cell_type": "code",
      "source": [
        "#Enter Your Code Below, Execute, and Save the Screenshot of the Final Output"
      ],
      "metadata": {
        "id": "00PNrOOG_Kcq"
      },
      "outputs": [],
      "execution_count": 411
    },
    {
      "cell_type": "code",
      "source": [
        "KNN   = KNeighborsClassifier(n_neighbors = 4)\n",
        "\n",
        "features_KNN = preprocessing.StandardScaler().fit(features).transform(features.astype(float))\n",
        "x_train_KNN, x_test_KNN, y_train_KNN, y_test_KNN = train_test_split(features_KNN, Y, test_size = 0.2, random_state = 10)\n",
        "print ('Train set:', x_train_KNN.shape,  y_train_KNN.shape)\n",
        "print ('Test set :' , x_test_KNN.shape ,  y_test_KNN.shape)\n",
        "\n",
        "KNN.fit(x_train_KNN, y_train_KNN)"
      ],
      "metadata": {
        "colab": {
          "base_uri": "https://localhost:8080/",
          "height": 112
        },
        "id": "mTRlNW5v_Kcr",
        "outputId": "f3145e50-8bb8-4ca1-d456-a40a95f8f6b2"
      },
      "outputs": [
        {
          "output_type": "stream",
          "name": "stdout",
          "text": [
            "Train set: (2616, 66) (2616,)\n",
            "Test set : (655, 66) (655,)\n"
          ]
        },
        {
          "output_type": "execute_result",
          "data": {
            "text/plain": [
              "KNeighborsClassifier(n_neighbors=4)"
            ],
            "text/html": [
              "<style>#sk-container-id-40 {color: black;background-color: white;}#sk-container-id-40 pre{padding: 0;}#sk-container-id-40 div.sk-toggleable {background-color: white;}#sk-container-id-40 label.sk-toggleable__label {cursor: pointer;display: block;width: 100%;margin-bottom: 0;padding: 0.3em;box-sizing: border-box;text-align: center;}#sk-container-id-40 label.sk-toggleable__label-arrow:before {content: \"▸\";float: left;margin-right: 0.25em;color: #696969;}#sk-container-id-40 label.sk-toggleable__label-arrow:hover:before {color: black;}#sk-container-id-40 div.sk-estimator:hover label.sk-toggleable__label-arrow:before {color: black;}#sk-container-id-40 div.sk-toggleable__content {max-height: 0;max-width: 0;overflow: hidden;text-align: left;background-color: #f0f8ff;}#sk-container-id-40 div.sk-toggleable__content pre {margin: 0.2em;color: black;border-radius: 0.25em;background-color: #f0f8ff;}#sk-container-id-40 input.sk-toggleable__control:checked~div.sk-toggleable__content {max-height: 200px;max-width: 100%;overflow: auto;}#sk-container-id-40 input.sk-toggleable__control:checked~label.sk-toggleable__label-arrow:before {content: \"▾\";}#sk-container-id-40 div.sk-estimator input.sk-toggleable__control:checked~label.sk-toggleable__label {background-color: #d4ebff;}#sk-container-id-40 div.sk-label input.sk-toggleable__control:checked~label.sk-toggleable__label {background-color: #d4ebff;}#sk-container-id-40 input.sk-hidden--visually {border: 0;clip: rect(1px 1px 1px 1px);clip: rect(1px, 1px, 1px, 1px);height: 1px;margin: -1px;overflow: hidden;padding: 0;position: absolute;width: 1px;}#sk-container-id-40 div.sk-estimator {font-family: monospace;background-color: #f0f8ff;border: 1px dotted black;border-radius: 0.25em;box-sizing: border-box;margin-bottom: 0.5em;}#sk-container-id-40 div.sk-estimator:hover {background-color: #d4ebff;}#sk-container-id-40 div.sk-parallel-item::after {content: \"\";width: 100%;border-bottom: 1px solid gray;flex-grow: 1;}#sk-container-id-40 div.sk-label:hover label.sk-toggleable__label {background-color: #d4ebff;}#sk-container-id-40 div.sk-serial::before {content: \"\";position: absolute;border-left: 1px solid gray;box-sizing: border-box;top: 0;bottom: 0;left: 50%;z-index: 0;}#sk-container-id-40 div.sk-serial {display: flex;flex-direction: column;align-items: center;background-color: white;padding-right: 0.2em;padding-left: 0.2em;position: relative;}#sk-container-id-40 div.sk-item {position: relative;z-index: 1;}#sk-container-id-40 div.sk-parallel {display: flex;align-items: stretch;justify-content: center;background-color: white;position: relative;}#sk-container-id-40 div.sk-item::before, #sk-container-id-40 div.sk-parallel-item::before {content: \"\";position: absolute;border-left: 1px solid gray;box-sizing: border-box;top: 0;bottom: 0;left: 50%;z-index: -1;}#sk-container-id-40 div.sk-parallel-item {display: flex;flex-direction: column;z-index: 1;position: relative;background-color: white;}#sk-container-id-40 div.sk-parallel-item:first-child::after {align-self: flex-end;width: 50%;}#sk-container-id-40 div.sk-parallel-item:last-child::after {align-self: flex-start;width: 50%;}#sk-container-id-40 div.sk-parallel-item:only-child::after {width: 0;}#sk-container-id-40 div.sk-dashed-wrapped {border: 1px dashed gray;margin: 0 0.4em 0.5em 0.4em;box-sizing: border-box;padding-bottom: 0.4em;background-color: white;}#sk-container-id-40 div.sk-label label {font-family: monospace;font-weight: bold;display: inline-block;line-height: 1.2em;}#sk-container-id-40 div.sk-label-container {text-align: center;}#sk-container-id-40 div.sk-container {/* jupyter's `normalize.less` sets `[hidden] { display: none; }` but bootstrap.min.css set `[hidden] { display: none !important; }` so we also need the `!important` here to be able to override the default hidden behavior on the sphinx rendered scikit-learn.org. See: https://github.com/scikit-learn/scikit-learn/issues/21755 */display: inline-block !important;position: relative;}#sk-container-id-40 div.sk-text-repr-fallback {display: none;}</style><div id=\"sk-container-id-40\" class=\"sk-top-container\"><div class=\"sk-text-repr-fallback\"><pre>KNeighborsClassifier(n_neighbors=4)</pre><b>In a Jupyter environment, please rerun this cell to show the HTML representation or trust the notebook. <br />On GitHub, the HTML representation is unable to render, please try loading this page with nbviewer.org.</b></div><div class=\"sk-container\" hidden><div class=\"sk-item\"><div class=\"sk-estimator sk-toggleable\"><input class=\"sk-toggleable__control sk-hidden--visually\" id=\"sk-estimator-id-40\" type=\"checkbox\" checked><label for=\"sk-estimator-id-40\" class=\"sk-toggleable__label sk-toggleable__label-arrow\">KNeighborsClassifier</label><div class=\"sk-toggleable__content\"><pre>KNeighborsClassifier(n_neighbors=4)</pre></div></div></div></div></div>"
            ]
          },
          "metadata": {},
          "execution_count": 412
        }
      ],
      "execution_count": 412
    },
    {
      "cell_type": "markdown",
      "source": [
        "#### Q7) Now use the `predict` method on the testing data (`x_test`) and save it to the array `predictions`.\n"
      ],
      "metadata": {
        "id": "b8jSFgfX_Kcs"
      }
    },
    {
      "cell_type": "code",
      "source": [
        "#Enter Your Code Below, Execute, and Save the Screenshot of the Final Output"
      ],
      "metadata": {
        "id": "O5HY1vht_Kcs"
      },
      "outputs": [],
      "execution_count": 413
    },
    {
      "cell_type": "code",
      "source": [
        "predictions = KNN.predict(x_test_KNN)\n",
        "print(\"Actual \\t predictions \")\n",
        "#for i,j in zip(y_test,predictions):\n",
        "#  print(f\"\\n{i}\\t{j}\")"
      ],
      "metadata": {
        "colab": {
          "base_uri": "https://localhost:8080/"
        },
        "id": "b6tfkER8_Kct",
        "outputId": "3a6ebe39-a838-4283-9069-65952d266bb8"
      },
      "outputs": [
        {
          "output_type": "stream",
          "name": "stdout",
          "text": [
            "Actual \t predictions \n"
          ]
        }
      ],
      "execution_count": 414
    },
    {
      "cell_type": "markdown",
      "source": [
        "#### Q8) Using the `predictions` and the `y_test` dataframe calculate the value for each metric using the appropriate function.\n"
      ],
      "metadata": {
        "id": "hK9K3LZ-_Kcv"
      }
    },
    {
      "cell_type": "code",
      "source": [
        "#Enter Your Code Below, Execute, and Save the Screenshot of the Final Output"
      ],
      "metadata": {
        "id": "ronTH_fU_Kcy"
      },
      "outputs": [],
      "execution_count": 415
    },
    {
      "cell_type": "code",
      "source": [
        "KNN_Accuracy_Score = metrics.accuracy_score(y_test_KNN, predictions)\n",
        "KNN_JaccardIndex   = jaccard_score(y_test_KNN,predictions)\n",
        "KNN_F1_Score       = f1_score(y_test_KNN,predictions)\n",
        "dict = [[\"Accuracy\",KNN_Accuracy_Score],[\"JaccardIndex\",KNN_JaccardIndex],\n",
        "       [\"F1 score\",KNN_F1_Score]]\n",
        "Report_KNN = pd.DataFrame(dict)\n",
        "print(tabulate(Report_KNN))"
      ],
      "metadata": {
        "colab": {
          "base_uri": "https://localhost:8080/"
        },
        "id": "jg9XTVqn_Kc2",
        "outputId": "d9681322-a7dd-4a9f-a192-8199ecd41f2f"
      },
      "outputs": [
        {
          "output_type": "stream",
          "name": "stdout",
          "text": [
            "-  ------------  --------\n",
            "0  Accuracy      0.760305\n",
            "1  JaccardIndex  0.241546\n",
            "2  F1 score      0.389105\n",
            "-  ------------  --------\n"
          ]
        }
      ],
      "execution_count": 416
    },
    {
      "cell_type": "markdown",
      "source": [
        "### Decision Tree\n"
      ],
      "metadata": {
        "id": "WyLNJAwV_Kc3"
      }
    },
    {
      "cell_type": "markdown",
      "source": [
        "#### Q9) Create and train a Decision Tree model called Tree using the training data (`x_train`, `y_train`).\n"
      ],
      "metadata": {
        "id": "cFd4oAsC_Kc4"
      }
    },
    {
      "cell_type": "code",
      "source": [
        "#Enter Your Code, Execute and take the Screenshot"
      ],
      "metadata": {
        "id": "44L0c4gW_Kc5"
      },
      "outputs": [],
      "execution_count": 417
    },
    {
      "cell_type": "code",
      "source": [
        "Tree = DecisionTreeClassifier(criterion=\"entropy\")\n",
        "Tree.fit(x_train,y_train)"
      ],
      "metadata": {
        "colab": {
          "base_uri": "https://localhost:8080/",
          "height": 75
        },
        "id": "6FquePmG_Kc6",
        "outputId": "3ed2f16b-cb26-418c-c26c-38ff453d893a"
      },
      "outputs": [
        {
          "output_type": "execute_result",
          "data": {
            "text/plain": [
              "DecisionTreeClassifier(criterion='entropy')"
            ],
            "text/html": [
              "<style>#sk-container-id-41 {color: black;background-color: white;}#sk-container-id-41 pre{padding: 0;}#sk-container-id-41 div.sk-toggleable {background-color: white;}#sk-container-id-41 label.sk-toggleable__label {cursor: pointer;display: block;width: 100%;margin-bottom: 0;padding: 0.3em;box-sizing: border-box;text-align: center;}#sk-container-id-41 label.sk-toggleable__label-arrow:before {content: \"▸\";float: left;margin-right: 0.25em;color: #696969;}#sk-container-id-41 label.sk-toggleable__label-arrow:hover:before {color: black;}#sk-container-id-41 div.sk-estimator:hover label.sk-toggleable__label-arrow:before {color: black;}#sk-container-id-41 div.sk-toggleable__content {max-height: 0;max-width: 0;overflow: hidden;text-align: left;background-color: #f0f8ff;}#sk-container-id-41 div.sk-toggleable__content pre {margin: 0.2em;color: black;border-radius: 0.25em;background-color: #f0f8ff;}#sk-container-id-41 input.sk-toggleable__control:checked~div.sk-toggleable__content {max-height: 200px;max-width: 100%;overflow: auto;}#sk-container-id-41 input.sk-toggleable__control:checked~label.sk-toggleable__label-arrow:before {content: \"▾\";}#sk-container-id-41 div.sk-estimator input.sk-toggleable__control:checked~label.sk-toggleable__label {background-color: #d4ebff;}#sk-container-id-41 div.sk-label input.sk-toggleable__control:checked~label.sk-toggleable__label {background-color: #d4ebff;}#sk-container-id-41 input.sk-hidden--visually {border: 0;clip: rect(1px 1px 1px 1px);clip: rect(1px, 1px, 1px, 1px);height: 1px;margin: -1px;overflow: hidden;padding: 0;position: absolute;width: 1px;}#sk-container-id-41 div.sk-estimator {font-family: monospace;background-color: #f0f8ff;border: 1px dotted black;border-radius: 0.25em;box-sizing: border-box;margin-bottom: 0.5em;}#sk-container-id-41 div.sk-estimator:hover {background-color: #d4ebff;}#sk-container-id-41 div.sk-parallel-item::after {content: \"\";width: 100%;border-bottom: 1px solid gray;flex-grow: 1;}#sk-container-id-41 div.sk-label:hover label.sk-toggleable__label {background-color: #d4ebff;}#sk-container-id-41 div.sk-serial::before {content: \"\";position: absolute;border-left: 1px solid gray;box-sizing: border-box;top: 0;bottom: 0;left: 50%;z-index: 0;}#sk-container-id-41 div.sk-serial {display: flex;flex-direction: column;align-items: center;background-color: white;padding-right: 0.2em;padding-left: 0.2em;position: relative;}#sk-container-id-41 div.sk-item {position: relative;z-index: 1;}#sk-container-id-41 div.sk-parallel {display: flex;align-items: stretch;justify-content: center;background-color: white;position: relative;}#sk-container-id-41 div.sk-item::before, #sk-container-id-41 div.sk-parallel-item::before {content: \"\";position: absolute;border-left: 1px solid gray;box-sizing: border-box;top: 0;bottom: 0;left: 50%;z-index: -1;}#sk-container-id-41 div.sk-parallel-item {display: flex;flex-direction: column;z-index: 1;position: relative;background-color: white;}#sk-container-id-41 div.sk-parallel-item:first-child::after {align-self: flex-end;width: 50%;}#sk-container-id-41 div.sk-parallel-item:last-child::after {align-self: flex-start;width: 50%;}#sk-container-id-41 div.sk-parallel-item:only-child::after {width: 0;}#sk-container-id-41 div.sk-dashed-wrapped {border: 1px dashed gray;margin: 0 0.4em 0.5em 0.4em;box-sizing: border-box;padding-bottom: 0.4em;background-color: white;}#sk-container-id-41 div.sk-label label {font-family: monospace;font-weight: bold;display: inline-block;line-height: 1.2em;}#sk-container-id-41 div.sk-label-container {text-align: center;}#sk-container-id-41 div.sk-container {/* jupyter's `normalize.less` sets `[hidden] { display: none; }` but bootstrap.min.css set `[hidden] { display: none !important; }` so we also need the `!important` here to be able to override the default hidden behavior on the sphinx rendered scikit-learn.org. See: https://github.com/scikit-learn/scikit-learn/issues/21755 */display: inline-block !important;position: relative;}#sk-container-id-41 div.sk-text-repr-fallback {display: none;}</style><div id=\"sk-container-id-41\" class=\"sk-top-container\"><div class=\"sk-text-repr-fallback\"><pre>DecisionTreeClassifier(criterion=&#x27;entropy&#x27;)</pre><b>In a Jupyter environment, please rerun this cell to show the HTML representation or trust the notebook. <br />On GitHub, the HTML representation is unable to render, please try loading this page with nbviewer.org.</b></div><div class=\"sk-container\" hidden><div class=\"sk-item\"><div class=\"sk-estimator sk-toggleable\"><input class=\"sk-toggleable__control sk-hidden--visually\" id=\"sk-estimator-id-41\" type=\"checkbox\" checked><label for=\"sk-estimator-id-41\" class=\"sk-toggleable__label sk-toggleable__label-arrow\">DecisionTreeClassifier</label><div class=\"sk-toggleable__content\"><pre>DecisionTreeClassifier(criterion=&#x27;entropy&#x27;)</pre></div></div></div></div></div>"
            ]
          },
          "metadata": {},
          "execution_count": 418
        }
      ],
      "execution_count": 418
    },
    {
      "cell_type": "markdown",
      "source": [
        "#### Q10) Now use the `predict` method on the testing data (`x_test`) and save it to the array `predictions`.\n"
      ],
      "metadata": {
        "id": "-qcEgOkG_Kc8"
      }
    },
    {
      "cell_type": "code",
      "source": [
        "#Enter Your Code, Execute and take the Screenshot"
      ],
      "metadata": {
        "id": "s6oEGV-q_Kc8"
      },
      "outputs": [],
      "execution_count": 419
    },
    {
      "cell_type": "code",
      "source": [
        "predictions = Tree.predict(x_test)"
      ],
      "metadata": {
        "id": "_XmNNkaK_Kc9"
      },
      "outputs": [],
      "execution_count": 420
    },
    {
      "cell_type": "markdown",
      "source": [
        "#### Q11) Using the `predictions` and the `y_test` dataframe calculate the value for each metric using the appropriate function.\n"
      ],
      "metadata": {
        "id": "VftHAoJx_Kc-"
      }
    },
    {
      "cell_type": "code",
      "source": [
        "#Enter Your Code, Execute and take the Screenshot"
      ],
      "metadata": {
        "id": "iPmzOr-q_Kc-"
      },
      "outputs": [],
      "execution_count": 421
    },
    {
      "cell_type": "code",
      "source": [
        "Tree_Accuracy_Score = metrics.accuracy_score(y_test,predictions)\n",
        "Tree_JaccardIndex   = jaccard_score(y_test,predictions)\n",
        "Tree_F1_Score       = f1_score(y_test,predictions)\n",
        "\n",
        "dict = [[\"Accuracy\",Tree_Accuracy_Score],[\"JaccardIndex\",Tree_JaccardIndex],\n",
        "       [\"F1 score\",Tree_F1_Score]]\n",
        "Report_Tree = pd.DataFrame(dict)\n",
        "print(tabulate(Report_Tree))"
      ],
      "metadata": {
        "colab": {
          "base_uri": "https://localhost:8080/"
        },
        "id": "2OIjlMB-_Kc-",
        "outputId": "f21c514c-2159-4343-b746-d2020bf63464"
      },
      "outputs": [
        {
          "output_type": "stream",
          "name": "stdout",
          "text": [
            "-  ------------  --------\n",
            "0  Accuracy      0.761832\n",
            "1  JaccardIndex  0.420074\n",
            "2  F1 score      0.591623\n",
            "-  ------------  --------\n"
          ]
        }
      ],
      "execution_count": 422
    },
    {
      "cell_type": "markdown",
      "source": [
        "### Logistic Regression\n"
      ],
      "metadata": {
        "id": "nor8Fs0Q_Kc_"
      }
    },
    {
      "cell_type": "markdown",
      "source": [
        "#### Q12) Use the `train_test_split` function to split the `features` and `Y` dataframes with a `test_size` of `0.2` and the `random_state` set to `1`.\n"
      ],
      "metadata": {
        "id": "Ij9ZdCLR_Kc_"
      }
    },
    {
      "cell_type": "code",
      "source": [
        "#Enter Your Code, Execute and take the Screenshot"
      ],
      "metadata": {
        "id": "yhZOO7JR_Kc_"
      },
      "outputs": [],
      "execution_count": 423
    },
    {
      "cell_type": "code",
      "source": [
        "x_train, x_test, y_train, y_test = train_test_split(features,Y,test_size=.2,random_state=1)\n",
        "print(f\"The dimenssions of the  train set's: {x_train.shape} \\n \\t \\t \\t \\t     {y_train.shape}\\nThe dimenssions of the  test set's: {x_test.shape} \\n \\t \\t \\t \\t    {y_test.shape}\")"
      ],
      "metadata": {
        "colab": {
          "base_uri": "https://localhost:8080/"
        },
        "id": "YSJmpTcJ_KdA",
        "outputId": "63eaf9ef-994d-4d6f-a8b5-9a0cc0c5eb15"
      },
      "outputs": [
        {
          "output_type": "stream",
          "name": "stdout",
          "text": [
            "The dimenssions of the  train set's: (2616, 66) \n",
            " \t \t \t \t     (2616,)\n",
            "The dimenssions of the  test set's: (655, 66) \n",
            " \t \t \t \t    (655,)\n"
          ]
        }
      ],
      "execution_count": 424
    },
    {
      "cell_type": "markdown",
      "source": [
        "#### Q13) Create and train a LogisticRegression model called LR using the training data (`x_train`, `y_train`) with the `solver` parameter set to `liblinear`.\n"
      ],
      "metadata": {
        "id": "Wo-zrF8o_KdA"
      }
    },
    {
      "cell_type": "code",
      "source": [
        "#Enter Your Code, Execute and take the Screenshot"
      ],
      "metadata": {
        "id": "enesztYO_KdB"
      },
      "outputs": [],
      "execution_count": 425
    },
    {
      "cell_type": "code",
      "source": [
        "LR = LogisticRegression(solver='liblinear')\n",
        "LR.fit(x_train,y_train)"
      ],
      "metadata": {
        "colab": {
          "base_uri": "https://localhost:8080/",
          "height": 75
        },
        "id": "1YkUneyX_KdB",
        "outputId": "ccbd1680-cbf4-457c-c63e-ab7496420806"
      },
      "outputs": [
        {
          "output_type": "execute_result",
          "data": {
            "text/plain": [
              "LogisticRegression(solver='liblinear')"
            ],
            "text/html": [
              "<style>#sk-container-id-42 {color: black;background-color: white;}#sk-container-id-42 pre{padding: 0;}#sk-container-id-42 div.sk-toggleable {background-color: white;}#sk-container-id-42 label.sk-toggleable__label {cursor: pointer;display: block;width: 100%;margin-bottom: 0;padding: 0.3em;box-sizing: border-box;text-align: center;}#sk-container-id-42 label.sk-toggleable__label-arrow:before {content: \"▸\";float: left;margin-right: 0.25em;color: #696969;}#sk-container-id-42 label.sk-toggleable__label-arrow:hover:before {color: black;}#sk-container-id-42 div.sk-estimator:hover label.sk-toggleable__label-arrow:before {color: black;}#sk-container-id-42 div.sk-toggleable__content {max-height: 0;max-width: 0;overflow: hidden;text-align: left;background-color: #f0f8ff;}#sk-container-id-42 div.sk-toggleable__content pre {margin: 0.2em;color: black;border-radius: 0.25em;background-color: #f0f8ff;}#sk-container-id-42 input.sk-toggleable__control:checked~div.sk-toggleable__content {max-height: 200px;max-width: 100%;overflow: auto;}#sk-container-id-42 input.sk-toggleable__control:checked~label.sk-toggleable__label-arrow:before {content: \"▾\";}#sk-container-id-42 div.sk-estimator input.sk-toggleable__control:checked~label.sk-toggleable__label {background-color: #d4ebff;}#sk-container-id-42 div.sk-label input.sk-toggleable__control:checked~label.sk-toggleable__label {background-color: #d4ebff;}#sk-container-id-42 input.sk-hidden--visually {border: 0;clip: rect(1px 1px 1px 1px);clip: rect(1px, 1px, 1px, 1px);height: 1px;margin: -1px;overflow: hidden;padding: 0;position: absolute;width: 1px;}#sk-container-id-42 div.sk-estimator {font-family: monospace;background-color: #f0f8ff;border: 1px dotted black;border-radius: 0.25em;box-sizing: border-box;margin-bottom: 0.5em;}#sk-container-id-42 div.sk-estimator:hover {background-color: #d4ebff;}#sk-container-id-42 div.sk-parallel-item::after {content: \"\";width: 100%;border-bottom: 1px solid gray;flex-grow: 1;}#sk-container-id-42 div.sk-label:hover label.sk-toggleable__label {background-color: #d4ebff;}#sk-container-id-42 div.sk-serial::before {content: \"\";position: absolute;border-left: 1px solid gray;box-sizing: border-box;top: 0;bottom: 0;left: 50%;z-index: 0;}#sk-container-id-42 div.sk-serial {display: flex;flex-direction: column;align-items: center;background-color: white;padding-right: 0.2em;padding-left: 0.2em;position: relative;}#sk-container-id-42 div.sk-item {position: relative;z-index: 1;}#sk-container-id-42 div.sk-parallel {display: flex;align-items: stretch;justify-content: center;background-color: white;position: relative;}#sk-container-id-42 div.sk-item::before, #sk-container-id-42 div.sk-parallel-item::before {content: \"\";position: absolute;border-left: 1px solid gray;box-sizing: border-box;top: 0;bottom: 0;left: 50%;z-index: -1;}#sk-container-id-42 div.sk-parallel-item {display: flex;flex-direction: column;z-index: 1;position: relative;background-color: white;}#sk-container-id-42 div.sk-parallel-item:first-child::after {align-self: flex-end;width: 50%;}#sk-container-id-42 div.sk-parallel-item:last-child::after {align-self: flex-start;width: 50%;}#sk-container-id-42 div.sk-parallel-item:only-child::after {width: 0;}#sk-container-id-42 div.sk-dashed-wrapped {border: 1px dashed gray;margin: 0 0.4em 0.5em 0.4em;box-sizing: border-box;padding-bottom: 0.4em;background-color: white;}#sk-container-id-42 div.sk-label label {font-family: monospace;font-weight: bold;display: inline-block;line-height: 1.2em;}#sk-container-id-42 div.sk-label-container {text-align: center;}#sk-container-id-42 div.sk-container {/* jupyter's `normalize.less` sets `[hidden] { display: none; }` but bootstrap.min.css set `[hidden] { display: none !important; }` so we also need the `!important` here to be able to override the default hidden behavior on the sphinx rendered scikit-learn.org. See: https://github.com/scikit-learn/scikit-learn/issues/21755 */display: inline-block !important;position: relative;}#sk-container-id-42 div.sk-text-repr-fallback {display: none;}</style><div id=\"sk-container-id-42\" class=\"sk-top-container\"><div class=\"sk-text-repr-fallback\"><pre>LogisticRegression(solver=&#x27;liblinear&#x27;)</pre><b>In a Jupyter environment, please rerun this cell to show the HTML representation or trust the notebook. <br />On GitHub, the HTML representation is unable to render, please try loading this page with nbviewer.org.</b></div><div class=\"sk-container\" hidden><div class=\"sk-item\"><div class=\"sk-estimator sk-toggleable\"><input class=\"sk-toggleable__control sk-hidden--visually\" id=\"sk-estimator-id-42\" type=\"checkbox\" checked><label for=\"sk-estimator-id-42\" class=\"sk-toggleable__label sk-toggleable__label-arrow\">LogisticRegression</label><div class=\"sk-toggleable__content\"><pre>LogisticRegression(solver=&#x27;liblinear&#x27;)</pre></div></div></div></div></div>"
            ]
          },
          "metadata": {},
          "execution_count": 426
        }
      ],
      "execution_count": 426
    },
    {
      "cell_type": "markdown",
      "source": [
        "#### Q14) Now, use the `predict` and `predict_proba` methods on the testing data (`x_test`) and save it as 2 arrays `predictions` and `predict_proba`.\n"
      ],
      "metadata": {
        "id": "K3iXc3TT_KdC"
      }
    },
    {
      "cell_type": "code",
      "source": [
        "#Enter Your Code, Execute and take the Screenshot"
      ],
      "metadata": {
        "id": "HuFhqB3X_KdD"
      },
      "outputs": [],
      "execution_count": 427
    },
    {
      "cell_type": "code",
      "source": [
        "predictions   = LR.predict(x_test)\n",
        "predictions[0:10]"
      ],
      "metadata": {
        "colab": {
          "base_uri": "https://localhost:8080/"
        },
        "id": "wyOyd9gC_KdD",
        "outputId": "88e89be3-d438-455e-9786-6fdfce629bc2"
      },
      "outputs": [
        {
          "output_type": "execute_result",
          "data": {
            "text/plain": [
              "array([0., 0., 0., 0., 0., 1., 0., 0., 0., 0.])"
            ]
          },
          "metadata": {},
          "execution_count": 428
        }
      ],
      "execution_count": 428
    },
    {
      "cell_type": "code",
      "source": [
        "predict_proba = LR.predict_proba(x_test)\n",
        "predict_proba[0:10]"
      ],
      "metadata": {
        "colab": {
          "base_uri": "https://localhost:8080/"
        },
        "id": "8oshFxBo_KdE",
        "outputId": "dbb99952-ff42-4c60-e8cf-c4e5f5713203"
      },
      "outputs": [
        {
          "output_type": "execute_result",
          "data": {
            "text/plain": [
              "array([[0.74574813, 0.25425187],\n",
              "       [0.97506424, 0.02493576],\n",
              "       [0.50824637, 0.49175363],\n",
              "       [0.84727479, 0.15272521],\n",
              "       [0.9684321 , 0.0315679 ],\n",
              "       [0.06519682, 0.93480318],\n",
              "       [0.70839068, 0.29160932],\n",
              "       [0.96310777, 0.03689223],\n",
              "       [0.92614522, 0.07385478],\n",
              "       [0.93413596, 0.06586404]])"
            ]
          },
          "metadata": {},
          "execution_count": 429
        }
      ],
      "execution_count": 429
    },
    {
      "cell_type": "markdown",
      "source": [
        "#### Q15) Using the `predictions`, `predict_proba` and the `y_test` dataframe calculate the value for each metric using the appropriate function.\n"
      ],
      "metadata": {
        "id": "3RRGyAy2_KdE"
      }
    },
    {
      "cell_type": "code",
      "source": [
        "#Enter Your Code, Execute and take the Screenshot"
      ],
      "metadata": {
        "id": "CXJig7ZU_KdE"
      },
      "outputs": [],
      "execution_count": 430
    },
    {
      "cell_type": "code",
      "source": [
        "LR_Accuracy_Score = metrics.accuracy_score(y_test,predictions)\n",
        "LR_JaccardIndex   = jaccard_score(y_test,predictions)\n",
        "LR_F1_Score       = f1_score(y_test,predictions)\n",
        "LR_Log_Loss       = log_loss(y_test,predict_proba)\n",
        "\n",
        "dict = [[\"Accuracy\",LR_Accuracy_Score],[\"JaccardIndex\",LR_JaccardIndex],\n",
        "       [\"F1 score\",LR_F1_Score],[\"Log loss\",LR_Log_Loss]]\n",
        "Report_LR = pd.DataFrame(dict)\n",
        "print(tabulate(Report_LR))"
      ],
      "metadata": {
        "colab": {
          "base_uri": "https://localhost:8080/"
        },
        "id": "mO7Iodib_KdH",
        "outputId": "cdee554c-04c5-4748-dabe-7600da7ac87a"
      },
      "outputs": [
        {
          "output_type": "stream",
          "name": "stdout",
          "text": [
            "-  ------------  --------\n",
            "0  Accuracy      0.836641\n",
            "1  JaccardIndex  0.509174\n",
            "2  F1 score      0.674772\n",
            "3  Log loss      0.381259\n",
            "-  ------------  --------\n"
          ]
        }
      ],
      "execution_count": 431
    },
    {
      "cell_type": "markdown",
      "source": [
        "### SVM\n"
      ],
      "metadata": {
        "id": "5YIo4J-T_KdH"
      }
    },
    {
      "cell_type": "markdown",
      "source": [
        "#### Q16) Create and train a SVM model called SVM using the training data (`x_train`, `y_train`).\n"
      ],
      "metadata": {
        "id": "GhT4XJpL_KdI"
      }
    },
    {
      "cell_type": "code",
      "source": [
        "#Enter Your Code Below, Execute, and Save the Screenshot of the Final Output"
      ],
      "metadata": {
        "id": "ZmluRADi_KdJ"
      },
      "outputs": [],
      "execution_count": 432
    },
    {
      "cell_type": "code",
      "source": [
        "SVM = svm.SVC()\n",
        "SVM.fit(x_train,y_train)"
      ],
      "metadata": {
        "id": "GkH7yXFP_KdJ",
        "colab": {
          "base_uri": "https://localhost:8080/",
          "height": 75
        },
        "outputId": "95c44463-0a70-4521-b208-1376fc6aaccb"
      },
      "outputs": [
        {
          "output_type": "execute_result",
          "data": {
            "text/plain": [
              "SVC()"
            ],
            "text/html": [
              "<style>#sk-container-id-43 {color: black;background-color: white;}#sk-container-id-43 pre{padding: 0;}#sk-container-id-43 div.sk-toggleable {background-color: white;}#sk-container-id-43 label.sk-toggleable__label {cursor: pointer;display: block;width: 100%;margin-bottom: 0;padding: 0.3em;box-sizing: border-box;text-align: center;}#sk-container-id-43 label.sk-toggleable__label-arrow:before {content: \"▸\";float: left;margin-right: 0.25em;color: #696969;}#sk-container-id-43 label.sk-toggleable__label-arrow:hover:before {color: black;}#sk-container-id-43 div.sk-estimator:hover label.sk-toggleable__label-arrow:before {color: black;}#sk-container-id-43 div.sk-toggleable__content {max-height: 0;max-width: 0;overflow: hidden;text-align: left;background-color: #f0f8ff;}#sk-container-id-43 div.sk-toggleable__content pre {margin: 0.2em;color: black;border-radius: 0.25em;background-color: #f0f8ff;}#sk-container-id-43 input.sk-toggleable__control:checked~div.sk-toggleable__content {max-height: 200px;max-width: 100%;overflow: auto;}#sk-container-id-43 input.sk-toggleable__control:checked~label.sk-toggleable__label-arrow:before {content: \"▾\";}#sk-container-id-43 div.sk-estimator input.sk-toggleable__control:checked~label.sk-toggleable__label {background-color: #d4ebff;}#sk-container-id-43 div.sk-label input.sk-toggleable__control:checked~label.sk-toggleable__label {background-color: #d4ebff;}#sk-container-id-43 input.sk-hidden--visually {border: 0;clip: rect(1px 1px 1px 1px);clip: rect(1px, 1px, 1px, 1px);height: 1px;margin: -1px;overflow: hidden;padding: 0;position: absolute;width: 1px;}#sk-container-id-43 div.sk-estimator {font-family: monospace;background-color: #f0f8ff;border: 1px dotted black;border-radius: 0.25em;box-sizing: border-box;margin-bottom: 0.5em;}#sk-container-id-43 div.sk-estimator:hover {background-color: #d4ebff;}#sk-container-id-43 div.sk-parallel-item::after {content: \"\";width: 100%;border-bottom: 1px solid gray;flex-grow: 1;}#sk-container-id-43 div.sk-label:hover label.sk-toggleable__label {background-color: #d4ebff;}#sk-container-id-43 div.sk-serial::before {content: \"\";position: absolute;border-left: 1px solid gray;box-sizing: border-box;top: 0;bottom: 0;left: 50%;z-index: 0;}#sk-container-id-43 div.sk-serial {display: flex;flex-direction: column;align-items: center;background-color: white;padding-right: 0.2em;padding-left: 0.2em;position: relative;}#sk-container-id-43 div.sk-item {position: relative;z-index: 1;}#sk-container-id-43 div.sk-parallel {display: flex;align-items: stretch;justify-content: center;background-color: white;position: relative;}#sk-container-id-43 div.sk-item::before, #sk-container-id-43 div.sk-parallel-item::before {content: \"\";position: absolute;border-left: 1px solid gray;box-sizing: border-box;top: 0;bottom: 0;left: 50%;z-index: -1;}#sk-container-id-43 div.sk-parallel-item {display: flex;flex-direction: column;z-index: 1;position: relative;background-color: white;}#sk-container-id-43 div.sk-parallel-item:first-child::after {align-self: flex-end;width: 50%;}#sk-container-id-43 div.sk-parallel-item:last-child::after {align-self: flex-start;width: 50%;}#sk-container-id-43 div.sk-parallel-item:only-child::after {width: 0;}#sk-container-id-43 div.sk-dashed-wrapped {border: 1px dashed gray;margin: 0 0.4em 0.5em 0.4em;box-sizing: border-box;padding-bottom: 0.4em;background-color: white;}#sk-container-id-43 div.sk-label label {font-family: monospace;font-weight: bold;display: inline-block;line-height: 1.2em;}#sk-container-id-43 div.sk-label-container {text-align: center;}#sk-container-id-43 div.sk-container {/* jupyter's `normalize.less` sets `[hidden] { display: none; }` but bootstrap.min.css set `[hidden] { display: none !important; }` so we also need the `!important` here to be able to override the default hidden behavior on the sphinx rendered scikit-learn.org. See: https://github.com/scikit-learn/scikit-learn/issues/21755 */display: inline-block !important;position: relative;}#sk-container-id-43 div.sk-text-repr-fallback {display: none;}</style><div id=\"sk-container-id-43\" class=\"sk-top-container\"><div class=\"sk-text-repr-fallback\"><pre>SVC()</pre><b>In a Jupyter environment, please rerun this cell to show the HTML representation or trust the notebook. <br />On GitHub, the HTML representation is unable to render, please try loading this page with nbviewer.org.</b></div><div class=\"sk-container\" hidden><div class=\"sk-item\"><div class=\"sk-estimator sk-toggleable\"><input class=\"sk-toggleable__control sk-hidden--visually\" id=\"sk-estimator-id-43\" type=\"checkbox\" checked><label for=\"sk-estimator-id-43\" class=\"sk-toggleable__label sk-toggleable__label-arrow\">SVC</label><div class=\"sk-toggleable__content\"><pre>SVC()</pre></div></div></div></div></div>"
            ]
          },
          "metadata": {},
          "execution_count": 433
        }
      ],
      "execution_count": 433
    },
    {
      "cell_type": "markdown",
      "source": [
        "#### Q17) Now use the `predict` method on the testing data (`x_test`) and save it to the array `predictions`.\n"
      ],
      "metadata": {
        "id": "gmQxbCVM_KdK"
      }
    },
    {
      "cell_type": "code",
      "source": [
        "#Enter Your Code Below, Execute, and Save the Screenshot of the Final Output"
      ],
      "metadata": {
        "id": "4C0C4mZi_KdK"
      },
      "outputs": [],
      "execution_count": 434
    },
    {
      "cell_type": "code",
      "source": [
        "predictions = SVM.predict(x_test)"
      ],
      "metadata": {
        "id": "IYXw8QBB_KdK"
      },
      "outputs": [],
      "execution_count": 435
    },
    {
      "cell_type": "markdown",
      "source": [
        "#### Q18) Using the `predictions` and the `y_test` dataframe calculate the value for each metric using the appropriate function.\n"
      ],
      "metadata": {
        "id": "ILYi209U_KdM"
      }
    },
    {
      "cell_type": "code",
      "source": [
        "SVM_Accuracy_Score = metrics.accuracy_score(y_test,predictions)\n",
        "SVM_JaccardIndex   = jaccard_score(y_test,predictions)\n",
        "SVM_F1_Score       = f1_score(y_test,predictions)\n",
        "\n",
        "dict = [[\"Accuracy\",SVM_Accuracy_Score],[\"JaccardIndex\",SVM_JaccardIndex],\n",
        "       [\"F1 score\",SVM_F1_Score]]\n",
        "Report_SMV = pd.DataFrame(dict)\n",
        "print(tabulate(Report_SMV))\n",
        "print(Report_SMV)"
      ],
      "metadata": {
        "colab": {
          "base_uri": "https://localhost:8080/"
        },
        "id": "DDFIVAOE_KdM",
        "outputId": "e3d71d27-bae8-444d-82d7-6db56af63775"
      },
      "outputs": [
        {
          "output_type": "stream",
          "name": "stdout",
          "text": [
            "-  ------------  --------\n",
            "0  Accuracy      0.722137\n",
            "1  JaccardIndex  0\n",
            "2  F1 score      0\n",
            "-  ------------  --------\n",
            "              0         1\n",
            "0      Accuracy  0.722137\n",
            "1  JaccardIndex  0.000000\n",
            "2      F1 score  0.000000\n"
          ]
        }
      ],
      "execution_count": 436
    },
    {
      "cell_type": "markdown",
      "source": [
        "### Report\n"
      ],
      "metadata": {
        "id": "AUGd8WRE_KdN"
      }
    },
    {
      "cell_type": "markdown",
      "source": [
        "#### Q19) Show the Accuracy,Jaccard Index,F1-Score and LogLoss in a tabular format using data frame for all of the above models.\n",
        "\n",
        "\\*LogLoss is only for Logistic Regression Model\n"
      ],
      "metadata": {
        "id": "vfcdnOJa_KdO"
      }
    },
    {
      "cell_type": "code",
      "source": [
        "#print(Report_SMV[0])\n",
        "labels    = [\"SMV\",\"Tree\",\"KNN\",\"LogReg\",\"LinReg\"]\n",
        "index     = [\"Accuracy\",\"JaccardIndex\",\"F1 score\", \"Log loss\", \"MAE\", \"MSE\", \"R^2\"]\n",
        "matrix    = np.empty((7,5,))\n",
        "matrix[:] = np.nan\n",
        "Report    = pd.DataFrame(matrix, index=index,columns=labels)\n",
        "\n",
        "Report_SMV.set_index(0,inplace = True)\n",
        "Report_SMV.columns = [\"SMV\"]\n",
        "Report.update(Report_SMV)\n",
        "\n",
        "Report_Tree.set_index(0,inplace = True)\n",
        "Report_Tree.columns = [\"Tree\"]\n",
        "Report.update(Report_Tree)\n",
        "\n",
        "Report_KNN.set_index(0,inplace = True)\n",
        "Report_KNN.columns = [\"KNN\"]\n",
        "Report.update(Report_KNN)\n",
        "\n",
        "Report_LR.set_index(0,inplace = True)\n",
        "Report_LR.columns = [\"LogReg\"]\n",
        "Report.update(Report_LR)\n",
        "\n",
        "Report_MLR.set_index(0,inplace = True)\n",
        "Report_MLR.columns = [\"LinReg\"]\n",
        "Report.update(Report_MLR)\n",
        "Report"
      ],
      "metadata": {
        "colab": {
          "base_uri": "https://localhost:8080/",
          "height": 269
        },
        "id": "hpRu6udo_KdO",
        "outputId": "77b5fefb-89b7-425d-8b16-6483ef247379"
      },
      "outputs": [
        {
          "output_type": "execute_result",
          "data": {
            "text/plain": [
              "                   SMV      Tree       KNN    LogReg    LinReg\n",
              "Accuracy      0.722137  0.761832  0.760305  0.836641       NaN\n",
              "JaccardIndex  0.000000  0.420074  0.241546  0.509174       NaN\n",
              "F1 score      0.000000  0.591623  0.389105  0.674772       NaN\n",
              "Log loss           NaN       NaN       NaN  0.381259       NaN\n",
              "MAE                NaN       NaN       NaN       NaN  0.256309\n",
              "MSE                NaN       NaN       NaN       NaN  0.115719\n",
              "R^2                NaN       NaN       NaN       NaN  0.427138"
            ],
            "text/html": [
              "\n",
              "  <div id=\"df-659dd6ed-bc67-44a9-8e94-7d11f2de4076\" class=\"colab-df-container\">\n",
              "    <div>\n",
              "<style scoped>\n",
              "    .dataframe tbody tr th:only-of-type {\n",
              "        vertical-align: middle;\n",
              "    }\n",
              "\n",
              "    .dataframe tbody tr th {\n",
              "        vertical-align: top;\n",
              "    }\n",
              "\n",
              "    .dataframe thead th {\n",
              "        text-align: right;\n",
              "    }\n",
              "</style>\n",
              "<table border=\"1\" class=\"dataframe\">\n",
              "  <thead>\n",
              "    <tr style=\"text-align: right;\">\n",
              "      <th></th>\n",
              "      <th>SMV</th>\n",
              "      <th>Tree</th>\n",
              "      <th>KNN</th>\n",
              "      <th>LogReg</th>\n",
              "      <th>LinReg</th>\n",
              "    </tr>\n",
              "  </thead>\n",
              "  <tbody>\n",
              "    <tr>\n",
              "      <th>Accuracy</th>\n",
              "      <td>0.722137</td>\n",
              "      <td>0.761832</td>\n",
              "      <td>0.760305</td>\n",
              "      <td>0.836641</td>\n",
              "      <td>NaN</td>\n",
              "    </tr>\n",
              "    <tr>\n",
              "      <th>JaccardIndex</th>\n",
              "      <td>0.000000</td>\n",
              "      <td>0.420074</td>\n",
              "      <td>0.241546</td>\n",
              "      <td>0.509174</td>\n",
              "      <td>NaN</td>\n",
              "    </tr>\n",
              "    <tr>\n",
              "      <th>F1 score</th>\n",
              "      <td>0.000000</td>\n",
              "      <td>0.591623</td>\n",
              "      <td>0.389105</td>\n",
              "      <td>0.674772</td>\n",
              "      <td>NaN</td>\n",
              "    </tr>\n",
              "    <tr>\n",
              "      <th>Log loss</th>\n",
              "      <td>NaN</td>\n",
              "      <td>NaN</td>\n",
              "      <td>NaN</td>\n",
              "      <td>0.381259</td>\n",
              "      <td>NaN</td>\n",
              "    </tr>\n",
              "    <tr>\n",
              "      <th>MAE</th>\n",
              "      <td>NaN</td>\n",
              "      <td>NaN</td>\n",
              "      <td>NaN</td>\n",
              "      <td>NaN</td>\n",
              "      <td>0.256309</td>\n",
              "    </tr>\n",
              "    <tr>\n",
              "      <th>MSE</th>\n",
              "      <td>NaN</td>\n",
              "      <td>NaN</td>\n",
              "      <td>NaN</td>\n",
              "      <td>NaN</td>\n",
              "      <td>0.115719</td>\n",
              "    </tr>\n",
              "    <tr>\n",
              "      <th>R^2</th>\n",
              "      <td>NaN</td>\n",
              "      <td>NaN</td>\n",
              "      <td>NaN</td>\n",
              "      <td>NaN</td>\n",
              "      <td>0.427138</td>\n",
              "    </tr>\n",
              "  </tbody>\n",
              "</table>\n",
              "</div>\n",
              "    <div class=\"colab-df-buttons\">\n",
              "\n",
              "  <div class=\"colab-df-container\">\n",
              "    <button class=\"colab-df-convert\" onclick=\"convertToInteractive('df-659dd6ed-bc67-44a9-8e94-7d11f2de4076')\"\n",
              "            title=\"Convert this dataframe to an interactive table.\"\n",
              "            style=\"display:none;\">\n",
              "\n",
              "  <svg xmlns=\"http://www.w3.org/2000/svg\" height=\"24px\" viewBox=\"0 -960 960 960\">\n",
              "    <path d=\"M120-120v-720h720v720H120Zm60-500h600v-160H180v160Zm220 220h160v-160H400v160Zm0 220h160v-160H400v160ZM180-400h160v-160H180v160Zm440 0h160v-160H620v160ZM180-180h160v-160H180v160Zm440 0h160v-160H620v160Z\"/>\n",
              "  </svg>\n",
              "    </button>\n",
              "\n",
              "  <style>\n",
              "    .colab-df-container {\n",
              "      display:flex;\n",
              "      gap: 12px;\n",
              "    }\n",
              "\n",
              "    .colab-df-convert {\n",
              "      background-color: #E8F0FE;\n",
              "      border: none;\n",
              "      border-radius: 50%;\n",
              "      cursor: pointer;\n",
              "      display: none;\n",
              "      fill: #1967D2;\n",
              "      height: 32px;\n",
              "      padding: 0 0 0 0;\n",
              "      width: 32px;\n",
              "    }\n",
              "\n",
              "    .colab-df-convert:hover {\n",
              "      background-color: #E2EBFA;\n",
              "      box-shadow: 0px 1px 2px rgba(60, 64, 67, 0.3), 0px 1px 3px 1px rgba(60, 64, 67, 0.15);\n",
              "      fill: #174EA6;\n",
              "    }\n",
              "\n",
              "    .colab-df-buttons div {\n",
              "      margin-bottom: 4px;\n",
              "    }\n",
              "\n",
              "    [theme=dark] .colab-df-convert {\n",
              "      background-color: #3B4455;\n",
              "      fill: #D2E3FC;\n",
              "    }\n",
              "\n",
              "    [theme=dark] .colab-df-convert:hover {\n",
              "      background-color: #434B5C;\n",
              "      box-shadow: 0px 1px 3px 1px rgba(0, 0, 0, 0.15);\n",
              "      filter: drop-shadow(0px 1px 2px rgba(0, 0, 0, 0.3));\n",
              "      fill: #FFFFFF;\n",
              "    }\n",
              "  </style>\n",
              "\n",
              "    <script>\n",
              "      const buttonEl =\n",
              "        document.querySelector('#df-659dd6ed-bc67-44a9-8e94-7d11f2de4076 button.colab-df-convert');\n",
              "      buttonEl.style.display =\n",
              "        google.colab.kernel.accessAllowed ? 'block' : 'none';\n",
              "\n",
              "      async function convertToInteractive(key) {\n",
              "        const element = document.querySelector('#df-659dd6ed-bc67-44a9-8e94-7d11f2de4076');\n",
              "        const dataTable =\n",
              "          await google.colab.kernel.invokeFunction('convertToInteractive',\n",
              "                                                    [key], {});\n",
              "        if (!dataTable) return;\n",
              "\n",
              "        const docLinkHtml = 'Like what you see? Visit the ' +\n",
              "          '<a target=\"_blank\" href=https://colab.research.google.com/notebooks/data_table.ipynb>data table notebook</a>'\n",
              "          + ' to learn more about interactive tables.';\n",
              "        element.innerHTML = '';\n",
              "        dataTable['output_type'] = 'display_data';\n",
              "        await google.colab.output.renderOutput(dataTable, element);\n",
              "        const docLink = document.createElement('div');\n",
              "        docLink.innerHTML = docLinkHtml;\n",
              "        element.appendChild(docLink);\n",
              "      }\n",
              "    </script>\n",
              "  </div>\n",
              "\n",
              "\n",
              "<div id=\"df-57f64d26-1d20-4a8a-a348-23060cf757b9\">\n",
              "  <button class=\"colab-df-quickchart\" onclick=\"quickchart('df-57f64d26-1d20-4a8a-a348-23060cf757b9')\"\n",
              "            title=\"Suggest charts\"\n",
              "            style=\"display:none;\">\n",
              "\n",
              "<svg xmlns=\"http://www.w3.org/2000/svg\" height=\"24px\"viewBox=\"0 0 24 24\"\n",
              "     width=\"24px\">\n",
              "    <g>\n",
              "        <path d=\"M19 3H5c-1.1 0-2 .9-2 2v14c0 1.1.9 2 2 2h14c1.1 0 2-.9 2-2V5c0-1.1-.9-2-2-2zM9 17H7v-7h2v7zm4 0h-2V7h2v10zm4 0h-2v-4h2v4z\"/>\n",
              "    </g>\n",
              "</svg>\n",
              "  </button>\n",
              "\n",
              "<style>\n",
              "  .colab-df-quickchart {\n",
              "      --bg-color: #E8F0FE;\n",
              "      --fill-color: #1967D2;\n",
              "      --hover-bg-color: #E2EBFA;\n",
              "      --hover-fill-color: #174EA6;\n",
              "      --disabled-fill-color: #AAA;\n",
              "      --disabled-bg-color: #DDD;\n",
              "  }\n",
              "\n",
              "  [theme=dark] .colab-df-quickchart {\n",
              "      --bg-color: #3B4455;\n",
              "      --fill-color: #D2E3FC;\n",
              "      --hover-bg-color: #434B5C;\n",
              "      --hover-fill-color: #FFFFFF;\n",
              "      --disabled-bg-color: #3B4455;\n",
              "      --disabled-fill-color: #666;\n",
              "  }\n",
              "\n",
              "  .colab-df-quickchart {\n",
              "    background-color: var(--bg-color);\n",
              "    border: none;\n",
              "    border-radius: 50%;\n",
              "    cursor: pointer;\n",
              "    display: none;\n",
              "    fill: var(--fill-color);\n",
              "    height: 32px;\n",
              "    padding: 0;\n",
              "    width: 32px;\n",
              "  }\n",
              "\n",
              "  .colab-df-quickchart:hover {\n",
              "    background-color: var(--hover-bg-color);\n",
              "    box-shadow: 0 1px 2px rgba(60, 64, 67, 0.3), 0 1px 3px 1px rgba(60, 64, 67, 0.15);\n",
              "    fill: var(--button-hover-fill-color);\n",
              "  }\n",
              "\n",
              "  .colab-df-quickchart-complete:disabled,\n",
              "  .colab-df-quickchart-complete:disabled:hover {\n",
              "    background-color: var(--disabled-bg-color);\n",
              "    fill: var(--disabled-fill-color);\n",
              "    box-shadow: none;\n",
              "  }\n",
              "\n",
              "  .colab-df-spinner {\n",
              "    border: 2px solid var(--fill-color);\n",
              "    border-color: transparent;\n",
              "    border-bottom-color: var(--fill-color);\n",
              "    animation:\n",
              "      spin 1s steps(1) infinite;\n",
              "  }\n",
              "\n",
              "  @keyframes spin {\n",
              "    0% {\n",
              "      border-color: transparent;\n",
              "      border-bottom-color: var(--fill-color);\n",
              "      border-left-color: var(--fill-color);\n",
              "    }\n",
              "    20% {\n",
              "      border-color: transparent;\n",
              "      border-left-color: var(--fill-color);\n",
              "      border-top-color: var(--fill-color);\n",
              "    }\n",
              "    30% {\n",
              "      border-color: transparent;\n",
              "      border-left-color: var(--fill-color);\n",
              "      border-top-color: var(--fill-color);\n",
              "      border-right-color: var(--fill-color);\n",
              "    }\n",
              "    40% {\n",
              "      border-color: transparent;\n",
              "      border-right-color: var(--fill-color);\n",
              "      border-top-color: var(--fill-color);\n",
              "    }\n",
              "    60% {\n",
              "      border-color: transparent;\n",
              "      border-right-color: var(--fill-color);\n",
              "    }\n",
              "    80% {\n",
              "      border-color: transparent;\n",
              "      border-right-color: var(--fill-color);\n",
              "      border-bottom-color: var(--fill-color);\n",
              "    }\n",
              "    90% {\n",
              "      border-color: transparent;\n",
              "      border-bottom-color: var(--fill-color);\n",
              "    }\n",
              "  }\n",
              "</style>\n",
              "\n",
              "  <script>\n",
              "    async function quickchart(key) {\n",
              "      const quickchartButtonEl =\n",
              "        document.querySelector('#' + key + ' button');\n",
              "      quickchartButtonEl.disabled = true;  // To prevent multiple clicks.\n",
              "      quickchartButtonEl.classList.add('colab-df-spinner');\n",
              "      try {\n",
              "        const charts = await google.colab.kernel.invokeFunction(\n",
              "            'suggestCharts', [key], {});\n",
              "      } catch (error) {\n",
              "        console.error('Error during call to suggestCharts:', error);\n",
              "      }\n",
              "      quickchartButtonEl.classList.remove('colab-df-spinner');\n",
              "      quickchartButtonEl.classList.add('colab-df-quickchart-complete');\n",
              "    }\n",
              "    (() => {\n",
              "      let quickchartButtonEl =\n",
              "        document.querySelector('#df-57f64d26-1d20-4a8a-a348-23060cf757b9 button');\n",
              "      quickchartButtonEl.style.display =\n",
              "        google.colab.kernel.accessAllowed ? 'block' : 'none';\n",
              "    })();\n",
              "  </script>\n",
              "</div>\n",
              "\n",
              "  <div id=\"id_1006aa1d-d1a6-4427-876e-933a19870d0d\">\n",
              "    <style>\n",
              "      .colab-df-generate {\n",
              "        background-color: #E8F0FE;\n",
              "        border: none;\n",
              "        border-radius: 50%;\n",
              "        cursor: pointer;\n",
              "        display: none;\n",
              "        fill: #1967D2;\n",
              "        height: 32px;\n",
              "        padding: 0 0 0 0;\n",
              "        width: 32px;\n",
              "      }\n",
              "\n",
              "      .colab-df-generate:hover {\n",
              "        background-color: #E2EBFA;\n",
              "        box-shadow: 0px 1px 2px rgba(60, 64, 67, 0.3), 0px 1px 3px 1px rgba(60, 64, 67, 0.15);\n",
              "        fill: #174EA6;\n",
              "      }\n",
              "\n",
              "      [theme=dark] .colab-df-generate {\n",
              "        background-color: #3B4455;\n",
              "        fill: #D2E3FC;\n",
              "      }\n",
              "\n",
              "      [theme=dark] .colab-df-generate:hover {\n",
              "        background-color: #434B5C;\n",
              "        box-shadow: 0px 1px 3px 1px rgba(0, 0, 0, 0.15);\n",
              "        filter: drop-shadow(0px 1px 2px rgba(0, 0, 0, 0.3));\n",
              "        fill: #FFFFFF;\n",
              "      }\n",
              "    </style>\n",
              "    <button class=\"colab-df-generate\" onclick=\"generateWithVariable('Report')\"\n",
              "            title=\"Generate code using this dataframe.\"\n",
              "            style=\"display:none;\">\n",
              "\n",
              "  <svg xmlns=\"http://www.w3.org/2000/svg\" height=\"24px\"viewBox=\"0 0 24 24\"\n",
              "       width=\"24px\">\n",
              "    <path d=\"M7,19H8.4L18.45,9,17,7.55,7,17.6ZM5,21V16.75L18.45,3.32a2,2,0,0,1,2.83,0l1.4,1.43a1.91,1.91,0,0,1,.58,1.4,1.91,1.91,0,0,1-.58,1.4L9.25,21ZM18.45,9,17,7.55Zm-12,3A5.31,5.31,0,0,0,4.9,8.1,5.31,5.31,0,0,0,1,6.5,5.31,5.31,0,0,0,4.9,4.9,5.31,5.31,0,0,0,6.5,1,5.31,5.31,0,0,0,8.1,4.9,5.31,5.31,0,0,0,12,6.5,5.46,5.46,0,0,0,6.5,12Z\"/>\n",
              "  </svg>\n",
              "    </button>\n",
              "    <script>\n",
              "      (() => {\n",
              "      const buttonEl =\n",
              "        document.querySelector('#id_1006aa1d-d1a6-4427-876e-933a19870d0d button.colab-df-generate');\n",
              "      buttonEl.style.display =\n",
              "        google.colab.kernel.accessAllowed ? 'block' : 'none';\n",
              "\n",
              "      buttonEl.onclick = () => {\n",
              "        google.colab.notebook.generateWithVariable('Report');\n",
              "      }\n",
              "      })();\n",
              "    </script>\n",
              "  </div>\n",
              "\n",
              "    </div>\n",
              "  </div>\n"
            ],
            "application/vnd.google.colaboratory.intrinsic+json": {
              "type": "dataframe",
              "variable_name": "Report",
              "summary": "{\n  \"name\": \"Report\",\n  \"rows\": 7,\n  \"fields\": [\n    {\n      \"column\": \"SMV\",\n      \"properties\": {\n        \"dtype\": \"number\",\n        \"std\": 0.4169262249262488,\n        \"min\": 0.0,\n        \"max\": 0.7221374045801526,\n        \"num_unique_values\": 2,\n        \"samples\": [\n          0.0,\n          0.7221374045801526\n        ],\n        \"semantic_type\": \"\",\n        \"description\": \"\"\n      }\n    },\n    {\n      \"column\": \"Tree\",\n      \"properties\": {\n        \"dtype\": \"number\",\n        \"std\": 0.1708792934268141,\n        \"min\": 0.4200743494423792,\n        \"max\": 0.7618320610687023,\n        \"num_unique_values\": 3,\n        \"samples\": [\n          0.7618320610687023,\n          0.4200743494423792\n        ],\n        \"semantic_type\": \"\",\n        \"description\": \"\"\n      }\n    },\n    {\n      \"column\": \"KNN\",\n      \"properties\": {\n        \"dtype\": \"number\",\n        \"std\": 0.267293448451754,\n        \"min\": 0.24154589371980675,\n        \"max\": 0.7603053435114504,\n        \"num_unique_values\": 3,\n        \"samples\": [\n          0.7603053435114504,\n          0.24154589371980675\n        ],\n        \"semantic_type\": \"\",\n        \"description\": \"\"\n      }\n    },\n    {\n      \"column\": \"LogReg\",\n      \"properties\": {\n        \"dtype\": \"number\",\n        \"std\": 0.19806225910479733,\n        \"min\": 0.3812590636097066,\n        \"max\": 0.8366412213740458,\n        \"num_unique_values\": 4,\n        \"samples\": [\n          0.5091743119266054,\n          0.3812590636097066\n        ],\n        \"semantic_type\": \"\",\n        \"description\": \"\"\n      }\n    },\n    {\n      \"column\": \"LinReg\",\n      \"properties\": {\n        \"dtype\": \"number\",\n        \"std\": 0.15595354854574192,\n        \"min\": 0.11571947414932758,\n        \"max\": 0.42713759580777166,\n        \"num_unique_values\": 3,\n        \"samples\": [\n          0.2563092413749404,\n          0.11571947414932758\n        ],\n        \"semantic_type\": \"\",\n        \"description\": \"\"\n      }\n    }\n  ]\n}"
            }
          },
          "metadata": {},
          "execution_count": 437
        }
      ],
      "execution_count": 437
    },
    {
      "cell_type": "markdown",
      "source": [
        "<h2 id=\"Section_5\">  How to submit </h2>\n",
        "\n",
        "<p>Once you complete your notebook you will have to share it. You can download the notebook by navigating to \"File\" and clicking on \"Download\" button.\n",
        "\n",
        "<p>This will save the (.ipynb) file on your computer. Once saved, you can upload this file in the \"My Submission\" tab, of the \"Peer-graded Assignment\" section.  \n"
      ],
      "metadata": {
        "id": "9Dr651F8_KdQ"
      }
    },
    {
      "cell_type": "markdown",
      "source": [
        "<h2>About the Authors:</h2>\n",
        "\n",
        "<a href=\"https://www.linkedin.com/in/joseph-s-50398b136/?utm_medium=Exinfluencer&utm_source=Exinfluencer&utm_content=000026UJ&utm_term=10006555&utm_id=NA-SkillsNetwork-Channel-SkillsNetworkCoursesIBMDeveloperSkillsNetworkML0101ENSkillsNetwork20718538-2022-01-01\">Joseph Santarcangelo</a> has a PhD in Electrical Engineering, his research focused on using machine learning, signal processing, and computer vision to determine how videos impact human cognition. Joseph has been working for IBM since he completed his PhD.\n",
        "\n",
        "### Other Contributors\n",
        "\n",
        "[Svitlana Kramar](https://www.linkedin.com/in/svitlana-kramar/?utm_medium=Exinfluencer&utm_source=Exinfluencer&utm_content=000026UJ&utm_term=10006555&utm_id=NA-SkillsNetwork-Channel-SkillsNetworkCoursesIBMML0232ENSkillsNetwork30654641-2022-01-01)\n"
      ],
      "metadata": {
        "id": "kZhEIZaE_KdU"
      }
    },
    {
      "cell_type": "markdown",
      "source": [
        "## Change Log\n",
        "\n",
        "| Date (YYYY-MM-DD) | Version | Changed By    | Change Description          |\n",
        "| ----------------- | ------- | ------------- | --------------------------- |\n",
        "| 2022-06-22        | 2.0     | Svitlana K.   | Deleted GridSearch and Mock |\n",
        "\n",
        "## <h3 align=\"center\"> © IBM Corporation 2020. All rights reserved. <h3/>\n"
      ],
      "metadata": {
        "id": "MGePMQIQ_KdV"
      }
    }
  ]
}